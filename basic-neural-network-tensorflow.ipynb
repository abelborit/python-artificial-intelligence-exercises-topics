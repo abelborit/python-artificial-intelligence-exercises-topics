{
  "nbformat": 4,
  "nbformat_minor": 0,
  "metadata": {
    "colab": {
      "provenance": [],
      "gpuType": "T4"
    },
    "kernelspec": {
      "name": "python3",
      "display_name": "Python 3"
    },
    "language_info": {
      "name": "python"
    },
    "accelerator": "GPU"
  },
  "cells": [
    {
      "cell_type": "markdown",
      "source": [
        "# Red Neuronal usando Tensorflow\n",
        "Usaremos uan red neuronal simple (2 capas = 1 entrada y 1 salida) y una red neuronal un poco más compleja (4 capas = 1 entrada / 2 ocultas / 1 salida)"
      ],
      "metadata": {
        "id": "VJswF87dDLrC"
      }
    },
    {
      "cell_type": "code",
      "execution_count": 2,
      "metadata": {
        "id": "HjJe9sNGzj0Y"
      },
      "outputs": [],
      "source": [
        "import tensorflow as tf # librería de inteligencia artificial hecha por Google\n",
        "import numpy as np # librería para trabajar más con arreglos numéricos"
      ]
    },
    {
      "cell_type": "code",
      "source": [
        "# Datos a utilizar (será la conversión de grados Celsius a grados Fahrenheit)\n",
        "celsius = np.array([-40, -10, 0, 8, 15, 22, 38], dtype=float)\n",
        "fahrenheit = np.array([-40, 14, 32, 46, 59, 72, 100], dtype=float)"
      ],
      "metadata": {
        "id": "3PoAMDyv0HIY"
      },
      "execution_count": 3,
      "outputs": []
    },
    {
      "cell_type": "code",
      "source": [
        "# Keras es una framework que nos ayuda a trabajar con redes neuronales de forma más simple ahorrándonos líneas de código, aquí vamos a especificar solo la capa de salida y de forma automática la capa de entrada\n",
        "\n",
        "# con una sola capa de salida que automáticamente nos autoregistra la capa de entrada con una neurona\n",
        "# capa = tf.keras.layers.Dense(número de neuronas, entrada con una neurona lo cual nos autoregistra la capa de entrada con una neurona)\n",
        "# capa = tf.keras.layers.Dense(units=1, input_shape=[1]) # especificar la capa de salida (será una capa densa es decir, las capas densas son las capas que tiene conexiones desde cada neurona hacia todas las neuronas de la siguiente capa)\n",
        "# modelo = tf.keras.Sequential([capa]) # añadir modelo de keras para darle las capas y poder trabajar él\n",
        "\n",
        "# con más capas que serán las capas ocultas\n",
        "oculta1 = tf.keras.layers.Dense(units=3, input_shape=[1])\n",
        "oculta2 = tf.keras.layers.Dense(units=3)\n",
        "salida = tf.keras.layers.Dense(units=1)\n",
        "modelo = tf.keras.Sequential([oculta1, oculta2, salida])"
      ],
      "metadata": {
        "id": "ku7YcWpx0Rty"
      },
      "execution_count": 11,
      "outputs": []
    },
    {
      "cell_type": "code",
      "source": [
        "# compilar el modelo para ser entrenado. El entrenamiento es con matemáticas y cálculos y ahora tenemos que decirle cómo queremos que procese esas matemáticas y cálculos para poder aprender mejor, eso lo haremos con dos propiedades, que es el optimizador y la función de pérdida\n",
        "    # usaremos el optimizador Adam que en resumen le permite a la red neuronal saber cómo ajustar los pesos y sesgos de manera eficiente para que pueda aprender y poco a poco ir mejorando. Le daremos un valor que es la taza de aprendizaje que le dirá qué tanto ajustar los pesos y sesgos\n",
        "    # función de pérdida usaremos la función de error cuadrático medio, que en pocas palabras considera que una poca cantidad de errores grandes es peor que un gran cantidad de errores pequeños\n",
        "modelo.compile(\n",
        "    optimizer=tf.keras.optimizers.Adam(0.1),\n",
        "    loss='mean_squared_error'\n",
        ")"
      ],
      "metadata": {
        "id": "Cr_6dOwZ2rpA"
      },
      "execution_count": 12,
      "outputs": []
    },
    {
      "cell_type": "code",
      "source": [
        "print(\"Comenzando entrenamiento...\")\n",
        "# para entrenar el modelo usamos la función fit(datos de entrada, resultado esperados, iteraciones)\n",
        "historial = modelo.fit(celsius, fahrenheit, epochs=1000, verbose=False)\n",
        "print(\"Modelo entrenado!\")"
      ],
      "metadata": {
        "colab": {
          "base_uri": "https://localhost:8080/"
        },
        "id": "2Q-dSFt95BO7",
        "outputId": "9ad678bd-8816-4fc2-86ee-c388f65b6a06"
      },
      "execution_count": 13,
      "outputs": [
        {
          "output_type": "stream",
          "name": "stdout",
          "text": [
            "Comenzando entrenamiento...\n",
            "Modelo entrenado!\n"
          ]
        }
      ]
    },
    {
      "cell_type": "code",
      "source": [
        "# ver el resultado de la función de pérdida para ver qué tan mal están los resultados de la red neuronal en cada vuelta que dió. Se puede ver que conforme se tuvo más iteraciones los errores fueron disminuyendo y ahí nos damos cuenta que con 1000 iteraciones, como colocamos en un principio, no sería necesario ya que por las 550 o 600 o 650 iteraciones ya no varía mucho el error. Darse cuenta también que al tener solo una capa se demoró más en mantener un error mínimo casi constante y aproximadamente en la iteración 550 o 600 o 650 ya dejó de aprender pero usando las 3 capas aprende mucho más rápido y demoró menos en mantener un error mínimo casi constante ya que aproximadamente en la iteración 50 o 70 ya dejó de aprender lo que nos da como una posible conclusión de que una red más compleja nos da mejores resultado y más rápido (aunque no en todos los casos se cumple esa posible conclusión)\n",
        "import matplotlib.pyplot as plt\n",
        "\n",
        "plt.xlabel(\"# Epoca\")\n",
        "plt.ylabel(\"Magnitud de pérdida\")\n",
        "plt.plot(historial.history[\"loss\"])"
      ],
      "metadata": {
        "colab": {
          "base_uri": "https://localhost:8080/",
          "height": 466
        },
        "id": "ugAfpSb05ewb",
        "outputId": "d5bc88f7-bf8d-4294-dbbf-0b42c6cfce01"
      },
      "execution_count": 14,
      "outputs": [
        {
          "output_type": "execute_result",
          "data": {
            "text/plain": [
              "[<matplotlib.lines.Line2D at 0x7e2b9128b580>]"
            ]
          },
          "metadata": {},
          "execution_count": 14
        },
        {
          "output_type": "display_data",
          "data": {
            "text/plain": [
              "<Figure size 640x480 with 1 Axes>"
            ],
            "image/png": "[encoded data removed]"
          },
          "metadata": {}
        }
      ]
    },
    {
      "cell_type": "code",
      "source": [
        "# hacer una predicción\n",
        "print(\"Hagamos una predicción!\")\n",
        "resultado = modelo.predict([100.0]) # el resultado esperado es (212 fahrenheit) lo cual el resultado nos da (211.74408 fahrenheit) que es muy cercano al valor verdadero\n",
        "print(\"El resultado es \" + str(resultado) + \" fahrenheit!\")"
      ],
      "metadata": {
        "colab": {
          "base_uri": "https://localhost:8080/"
        },
        "id": "MX_kG99P-haP",
        "outputId": "d9f4f463-f9ce-480e-daeb-31af9b5bd564"
      },
      "execution_count": 15,
      "outputs": [
        {
          "output_type": "stream",
          "name": "stdout",
          "text": [
            "Hagamos una predicción!\n",
            "1/1 [==============================] - 0s 59ms/step\n",
            "El resultado es [[211.74744]] fahrenheit!\n"
          ]
        }
      ]
    },
    {
      "cell_type": "code",
      "source": [
        "# funciones para saber las variables internas del modelo\n",
        "print(\"Variables internas del modelo\")\n",
        "# con una sola capa de salida que automáticamente nos autoregistra la capa de entrada con una neurona\n",
        "# print(capa.get_weights()) # [array([[1.7981316]], dtype=float32), array([31.930923], dtype=float32)] donde el peso es 1.7981316 y el sesgo es 31.930923 lo cual sería si el valor es (100 celsius) que queremos pasarlo a fahrenheit lo que hizo aquí sería (100 * 1.7981316 = 179.81316 + 31.930923 = 211.744083)\n",
        "\n",
        "# con más capas que serán las capas ocultas nos darán otros números para los pesos y para los sesgos los cuales son la mejor combinación que encontró en el proceso de optimización para llegar al resultado más acertado\n",
        "print(oculta1.get_weights())\n",
        "print(oculta2.get_weights())\n",
        "print(salida.get_weights())"
      ],
      "metadata": {
        "colab": {
          "base_uri": "https://localhost:8080/"
        },
        "id": "rlj_1eZm_GS5",
        "outputId": "597c0311-e48c-4236-bedb-435a02682235"
      },
      "execution_count": 16,
      "outputs": [
        {
          "output_type": "stream",
          "name": "stdout",
          "text": [
            "Variables internas del modelo\n",
            "[array([[-0.19107829, -0.08798367,  0.5376464 ]], dtype=float32), array([-3.463208 , -1.2098008,  3.6218174], dtype=float32)]\n",
            "[array([[-0.87761337, -1.1533529 ,  0.55253893],\n",
            "       [-0.32466233,  0.27242887, -1.7570392 ],\n",
            "       [ 0.50328267,  1.2016932 ,  0.13952115]], dtype=float32), array([3.2155595, 3.6004136, 3.237509 ], dtype=float32)]\n",
            "[array([[1.2775531],\n",
            "       [1.3543508],\n",
            "       [0.4877349]], dtype=float32), array([3.467967], dtype=float32)]\n"
          ]
        }
      ]
    },
    {
      "cell_type": "markdown",
      "source": [
        "# Conclusiones:\n",
        "En este ejemplo, aunque es un ejemplo muy simple y se puede resolver con una reu neuronal muy simple (2 capas = 1 entrada y 1 salida) también podemos ver que usando una red neuronal un poco más compleja (4 capas = 1 entrada / 2 ocultas / 1 salida) puede aprender un algoritmo para resolver el problema siguiendo caminos o formas totalmente distintos y llegar a un peor resultado en algunos casos o sino a un resultado similar o mejor."
      ],
      "metadata": {
        "id": "7yvfM1WHCNYt"
      }
    }
  ]
}