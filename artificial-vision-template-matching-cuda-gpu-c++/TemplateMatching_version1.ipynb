{
  "nbformat": 4,
  "nbformat_minor": 0,
  "metadata": {
    "colab": {
      "provenance": [],
      "gpuType": "T4"
    },
    "kernelspec": {
      "name": "python3",
      "display_name": "Python 3"
    },
    "language_info": {
      "name": "python"
    },
    "accelerator": "GPU"
  },
  "cells": [
    {
      "cell_type": "markdown",
      "source": [
        "## Maestría Ciencias de la Computación\n",
        "### Curso: Visión Artificial\n",
        "#### Integrantes:\n",
        "* Abel Edmundo Borit Guitton\n",
        "* Luis Alberto Borit Guitton\n",
        "* Betzy Jacqueline Yarin Ramıirez"
      ],
      "metadata": {
        "id": "wMammY6EUqlB"
      }
    },
    {
      "cell_type": "markdown",
      "source": [
        "#Template Matching\n",
        "Se ha realizado este proyecto con cuda y C++\n",
        "1. Subir la Imagen original (Google Colab)\n",
        "2. Para cambiar la ruta de la imagen recién cargada ir a la línea 56\n",
        "3. Subir el Template. Para cambiar la ruta de la imagen recién cargada ir a la línea 57\n",
        "4. Para ajustar ir a la línea 95 (umbral)\n",
        "5. Se generará una nueva imagen y la coincidencia estará encerrada en un marco blanco con el nombre @Resultado_001.png"
      ],
      "metadata": {
        "id": "4tpGeLacUsnC"
      }
    },
    {
      "cell_type": "code",
      "source": [
        "!pip install nvcc4jupyter -q\n",
        "%load_ext nvcc4jupyter"
      ],
      "metadata": {
        "colab": {
          "base_uri": "https://localhost:8080/"
        },
        "id": "UFp2dpSZQiW3",
        "outputId": "8a46d60d-c56e-4c97-8383-9943e38f7f78"
      },
      "execution_count": 1,
      "outputs": [
        {
          "output_type": "stream",
          "name": "stdout",
          "text": [
            "Detected platform \"Colab\". Running its setup...\n",
            "Source files will be saved in \"/tmp/tmpi3qsdgua\".\n"
          ]
        }
      ]
    },
    {
      "cell_type": "code",
      "source": [
        "!wget https://raw.githubusercontent.com/nothings/stb/master/stb_image.h -q\n",
        "!wget https://raw.githubusercontent.com/nothings/stb/master/stb_image_write.h -O stb_image_write.h -q"
      ],
      "metadata": {
        "id": "NhHjDcd8Xv-D"
      },
      "execution_count": 2,
      "outputs": []
    },
    {
      "cell_type": "code",
      "source": [
        "%%cuda\n",
        "\n",
        "#include <iostream>\n",
        "#include <cmath>\n",
        "#include <vector>\n",
        "#include <algorithm>\n",
        "#define STB_IMAGE_IMPLEMENTATION\n",
        "#define STB_IMAGE_WRITE_IMPLEMENTATION\n",
        "#include \"/content/stb_image.h\"\n",
        "#include \"/content/stb_image_write.h\"\n",
        "\n",
        "// Función para calcular la suma de los cuadrados de las diferencias entre dos regiones de imágenes\n",
        "__device__ float squaredDifference(const unsigned char* image, const unsigned char* templateImage, int x, int y, int templateWidth, int templateHeight, int imageWidth, int channels) {\n",
        "    float sum = 0.0f;\n",
        "    for (int dy = 0; dy < templateHeight; ++dy) {\n",
        "        for (int dx = 0; dx < templateWidth; ++dx) {\n",
        "            for (int c = 0; c < channels; ++c) {\n",
        "                int imageIndex = ((y + dy) * imageWidth + (x + dx)) * channels + c;\n",
        "                int templateIndex = (dy * templateWidth + dx) * channels + c;\n",
        "                float diff = image[imageIndex] - templateImage[templateIndex];\n",
        "                sum += diff * diff;\n",
        "            }\n",
        "        }\n",
        "    }\n",
        "    return sum;\n",
        "}\n",
        "\n",
        "// Función kernel para aplicar Template Matching y dibujar rectángulos\n",
        "__global__ void templateMatchingAndDrawRectangles(const unsigned char* image, const unsigned char* templateImage, unsigned char* result, int imageWidth, int imageHeight, int templateWidth, int templateHeight, int channels, float threshold) {\n",
        "    int x = blockIdx.x * blockDim.x + threadIdx.x;\n",
        "    int y = blockIdx.y * blockDim.y + threadIdx.y;\n",
        "\n",
        "    if (x < imageWidth - templateWidth && y < imageHeight - templateHeight) {\n",
        "        // Calcular la suma de los cuadrados de las diferencias para esta región\n",
        "        float diff = squaredDifference(image, templateImage, x, y, templateWidth, templateHeight, imageWidth, channels);\n",
        "        // Si la diferencia es menor que el umbral, considerar que hay una coincidencia\n",
        "        if (diff < threshold) {\n",
        "            // Dibujar rectángulo alrededor de la región coincidente\n",
        "            for (int dy = 0; dy < templateHeight; ++dy) {\n",
        "                for (int dx = 0; dx < templateWidth; ++dx) {\n",
        "                    for (int c = 0; c < channels; ++c) {\n",
        "                        int resultIndex = ((y + dy) * imageWidth + (x + dx)) * channels + c;\n",
        "                        // Marcar el píxel como blanco si está en el borde del template\n",
        "                        if (dy == 0 || dy == templateHeight - 1 || dx == 0 || dx == templateWidth - 1) {\n",
        "                            result[resultIndex] = 255; // Canal rojo\n",
        "                        }\n",
        "                    }\n",
        "                }\n",
        "            }\n",
        "        }\n",
        "    }\n",
        "}\n",
        "\n",
        "int main() {\n",
        "    // Cargar la imagen y el template desde archivos usando la función stbi_load\n",
        "    const char* imageFilename = \"/content/imagen.png\";\n",
        "    const char* templateFilename = \"/content/template.png\";\n",
        "    int imageWidth, imageHeight, imageChannels;\n",
        "    unsigned char *image = stbi_load(imageFilename, &imageWidth, &imageHeight, &imageChannels, 0);\n",
        "    if (!image) {\n",
        "        std::cerr << \"Error al cargar la imagen\" << std::endl;\n",
        "        return 1;\n",
        "    }\n",
        "\n",
        "    int templateWidth, templateHeight, templateChannels;\n",
        "    unsigned char *templateImage = stbi_load(templateFilename, &templateWidth, &templateHeight, &templateChannels, 0);\n",
        "    if (!templateImage) {\n",
        "        std::cerr << \"Error al cargar el template\" << std::endl;\n",
        "        return 1;\n",
        "    }\n",
        "\n",
        "    // Definir el tamaño de la imagen resultante\n",
        "    size_t resultSize = imageWidth * imageHeight * imageChannels;\n",
        "    unsigned char *result = new unsigned char[resultSize];\n",
        "\n",
        "    // Definir el tamaño de la imagen y del template\n",
        "    size_t imageSize = imageWidth * imageHeight * imageChannels;\n",
        "    size_t templateSize = templateWidth * templateHeight * templateChannels;\n",
        "\n",
        "    // Reservar memoria en la GPU\n",
        "    unsigned char *d_image, *d_template, *d_result;\n",
        "    cudaMalloc((void **)&d_image, imageSize);\n",
        "    cudaMalloc((void **)&d_template, templateSize);\n",
        "    cudaMalloc((void **)&d_result, resultSize);\n",
        "\n",
        "    // Copiar la imagen y el template desde la memoria de la CPU a la memoria de la GPU\n",
        "    cudaMemcpy(d_image, image, imageSize, cudaMemcpyHostToDevice);\n",
        "    cudaMemcpy(d_template, templateImage, templateSize, cudaMemcpyHostToDevice);\n",
        "\n",
        "    // Definir el tamaño de bloque y el tamaño de la cuadrícula\n",
        "    dim3 blockSize(32, 32);\n",
        "    dim3 gridSize((imageWidth + blockSize.x - 1) / blockSize.x, (imageHeight + blockSize.y - 1) / blockSize.y);\n",
        "\n",
        "    // Definir el umbral para la coincidencia\n",
        "    float threshold = 10000.0f;\n",
        "\n",
        "    // Lanzar el kernel para aplicar Template Matching y dibujar rectángulos\n",
        "    templateMatchingAndDrawRectangles<<<gridSize, blockSize>>>(d_image, d_template, d_result, imageWidth, imageHeight, templateWidth, templateHeight, imageChannels, threshold);\n",
        "\n",
        "    // Copiar la imagen resultante desde la memoria de la GPU a la memoria de la CPU\n",
        "    cudaMemcpy(result, d_result, resultSize, cudaMemcpyDeviceToHost);\n",
        "\n",
        "    // Combinar la imagen principal y el resultado del rectángulo\n",
        "    for (int i = 0; i < imageSize; ++i) {\n",
        "        if (result[i] == 255) {\n",
        "            // Usar el canal rojo del resultado para el rectángulo\n",
        "            image[i] = result[i];\n",
        "        }\n",
        "    }\n",
        "\n",
        "    // Guardar la imagen resultante usando stbi_write\n",
        "    stbi_write_png(\"/content/@Resultado_001.png\", imageWidth, imageHeight, imageChannels, image, imageWidth * imageChannels);\n",
        "\n",
        "    std::cout << \"Se ha generado la imagen resultante con rectángulos superpuestos en /content/@Resultado_001.png\" << std::endl;\n",
        "\n",
        "    // Liberar memoria en la GPU\n",
        "    cudaFree(d_image);\n",
        "    cudaFree(d_template);\n",
        "    cudaFree(d_result);\n",
        "\n",
        "    // Liberar la memoria de las imágenes cargadas\n",
        "    stbi_image_free(image);\n",
        "    stbi_image_free(templateImage);\n",
        "    delete[] result;\n",
        "\n",
        "    return 0;\n",
        "}\n"
      ],
      "metadata": {
        "colab": {
          "base_uri": "https://localhost:8080/"
        },
        "id": "5ehnOjDemasH",
        "outputId": "821baf73-baaf-4567-a84b-517e1af41c27"
      },
      "execution_count": 7,
      "outputs": [
        {
          "output_type": "stream",
          "name": "stdout",
          "text": [
            "Se ha generado la imagen resultante con rectángulos superpuestos en /content/@Resultado_001.png\n",
            "\n"
          ]
        }
      ]
    }
  ]
}