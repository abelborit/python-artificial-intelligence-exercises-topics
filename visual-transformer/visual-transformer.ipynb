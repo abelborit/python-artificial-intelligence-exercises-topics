{
  "nbformat": 4,
  "nbformat_minor": 0,
  "metadata": {
    "colab": {
      "provenance": [],
      "gpuType": "T4"
    },
    "kernelspec": {
      "name": "python3",
      "display_name": "Python 3"
    },
    "language_info": {
      "name": "python"
    },
    "accelerator": "GPU"
  },
  "cells": [
    {
      "cell_type": "markdown",
      "source": [
        "# Vision Transformers (ViT)\n",
        "Lo que hace es básicamente tomar la imagen y dividirla en \"parches\" y luego de dividirlo lo alimentamos en un encoder transformer y eso hace que las imágenes sean como fichas o tokens para los transformers.\n",
        "\n",
        "Algo que hay que considerar de esta arquitectura es que junto con las imágenes después de que las aplicamos a la proyección lineal (lineal projection) estamos alimentando las incrustraciones de posición (position embeddings) junto con ellas.\n",
        "\n",
        "El documento también menciona que hay una clase que se puede aprender que incorpora lo que es, digamos que estamos haciendo una clasificación de oraciones, en lugar de pasar todo el modelo para inferir, almacenamos cada valor en un token al comienzo de la oración que generalmente es un token CLS que en este caso se indica con un \\*, toda la información se almacena en este token y solo clasificamos este token. Tenemos un token de incrustración que se puede aprender al principio y que se indica con un * y debemos tener en cuenta que en realidad agrega un token al número total de parches que tenemos, es decir, habrá una cantidad de parches más una incrustación adicional que se pueda aprende.\n",
        "\n",
        "Otra cosa que necesitamos saber para implementar es cómo saber la cantidad de lotes o parches y para eso deberemos hacer esta operación de, por ejemplo, si es una imagen de 3x3 y tiene un tamaño de página de 1, entonces la cantidad de parches sería (3/1)^2 y eso sería la cantidad de parches que realmente usaremos y si queremos calcular la dimensión de un parche entonces si es un parche de 1x1 entonces sería multiplicar los tamaños de ancho y alto multiplicado por los canales de entrada (input channels), es decir, siguiendo el ejemplo anterior sería (1x1)(3) = 3.\n",
        "\n",
        "Entonces, ya tenemos o sabemos cómo calcular la cantidad de parches, ya tenemos o sabemos cómo calcular las dimensiones de los embeddings dimensions de un parche, entonces después de alimentarlos o ajustar todos los position embeddings y los parches para el encoder transformer es que básicamente tomamos ese parámetro de aprendizaje y lo alimentamos en un MLP Head que es un clasificador, luego clasificamos el token como lo que necesitemos, un carro, un tipo de ave, hoteles, etc."
      ],
      "metadata": {
        "id": "9qroLh7EPXXH"
      }
    },
    {
      "cell_type": "code",
      "execution_count": 1,
      "metadata": {
        "id": "0-UcauEjPQag"
      },
      "outputs": [],
      "source": [
        "# Importaciones necesarias\n",
        "import torch\n",
        "import pandas as pd\n",
        "from torch import nn\n",
        "from torch import optim\n",
        "from torch.utils.data import DataLoader, Dataset\n",
        "from torchvision import transforms\n",
        "from sklearn.model_selection import train_test_split\n",
        "import matplotlib.pyplot as plt\n",
        "import numpy as np\n",
        "import random\n",
        "import timeit\n",
        "from tqdm import tqdm"
      ]
    },
    {
      "cell_type": "code",
      "source": [
        "# Definición de los hiperparámetros\n",
        "RANDOM_SEED = 42 # una semilla aleatoria para que nuestro código sea reproducible\n",
        "BATCH_SIZE = 512 # tamaño del batch que será de 512 (dependiendo de la GPU se puede aumentar o disminuir)\n",
        "EPOCHS = 40 # número de épocas (se usará 40 que es un número alto y está bien que sea alto cuando usamos transformers porque en este caso nuestro modelo no se ha entrenado con nada, básicamente es un modelo básico, por lo que otros modelos se pueden afinar con cantidades más pequeñas de datos porque ya están entrenados con cantidades masivas de datos y aquí solo lo estamos afinando desde datos pequeños en comparación con un gran modelo transformer avanzado)\n",
        "LEARNING_RATE = 1e-4 # tasa de aprendizaje\n",
        "NUM_CLASSES = 10 # número de clases para la clasificación (perro o gato serían 2 clases - carro o tren o avión o helicóptero serían 4 clases - etc...)\n",
        "PATCH_SIZE = 4 # tamaño de parche\n",
        "IMG_SIZE = 28 # tamaño de la imagen\n",
        "IN_CHANNELS = 1 # input channels que serán el tamaño de la página (page size)\n",
        "NUM_HEADS = 8 # número de head o cabezales (como hay una encoder transformer entonces este encoder transformer tiene cabezales de atención y este número de cabezales decide cuántos cabezales de atención vamos a usar y en este caso serán 8 cabezales de atención)\n",
        "DROPOUT = 0.001 # valor de dropout\n",
        "HIDDEN_DIM = 768 # dimensión oculta (es la dimensión oculta que tiene el MLP Head)\n",
        "ADAM_WEIGHT_DECAY = 0 # agregar el peso de decaimiento (weight decay) que es el valor de decaimiento de peso que le daremos a nuestro optimizador (en el paper dan uno valor de 0.1 pero en este caso no funcionó tan bien y por eso se dará un valor de 0 y se mantendrá en cero que es un valor predeterminado)\n",
        "ADAM_BETAS = (0.9, 0.999) # betas para nuestro optimizador Adam donde estas betas el paper usa valores de 0.9 y 0.999\n",
        "ACTIVATION=\"gelu\" # función de activación que será gelu la cual también se usa en el paper\n",
        "NUM_ENCODERS = 4 # cantidad de decodificadores (lo que realmente sucede es que los aplicamos uno encima de otro)\n",
        "EMBED_DIM = (PATCH_SIZE ** 2) * IN_CHANNELS # dará como resultado 16. El embedding dimensions y para calcularla, por ejemplo, si tenemos un parche de 1x1 en tamaño y 3 en número de canales, simplemente multiplicamos todo\n",
        "NUM_PATCHES = (IMG_SIZE // PATCH_SIZE) ** 2 # dará como resultado 49. El número de parches será el tamaño de la imagen (que podrá ser el alto o ancho ya que son iguales) dividido entre el tamaño del parche y luego todo elevarlo al cuadrado\n",
        "\n",
        "# para asegurarnos de la reproducibilidad\n",
        "random.seed(RANDOM_SEED)\n",
        "np.random.seed(RANDOM_SEED)\n",
        "torch.manual_seed(RANDOM_SEED)\n",
        "torch.cuda.manual_seed(RANDOM_SEED)\n",
        "torch.cuda.manual_seed_all(RANDOM_SEED)\n",
        "torch.backends.cudnn.deterministic = True\n",
        "torch.backends.cudnn.benchmark = False\n",
        "\n",
        "device = \"cuda\" if torch.cuda.is_available() else \"cpu\" # definir nuestro dispositivo en el que vamos a trabajar"
      ],
      "metadata": {
        "id": "ObFXuQPGXiKo"
      },
      "execution_count": 2,
      "outputs": []
    },
    {
      "cell_type": "code",
      "source": [
        "# Implementar la primera parte \"Patch + Position Embeddings\": la parte que va al encoder transformer, desde la división de la imagen en parches hasta crear el token CLS y fusionarlos en las incrustraciones de posición (position embeddings)\n",
        "class PatchEmbedding(nn.Module):\n",
        "    def __init__(self, embed_dim, patch_size, num_patches, dropout, in_channels):\n",
        "        super().__init__()\n",
        "        # aquí vamos a dividir la imagen en parches al cual llamaremos como patcher. Aquí tomará la imagen y la dividirá en tamaños del parche y luego lo aplanaremos usando Flatten\n",
        "        self.patcher = nn.Sequential(\n",
        "            nn.Conv2d(\n",
        "                in_channels=in_channels,\n",
        "                out_channels=embed_dim,\n",
        "                kernel_size=patch_size,\n",
        "                stride=patch_size,\n",
        "            ),\n",
        "            nn.Flatten(2))\n",
        "\n",
        "        # vamos a definir el token CLS el que vamos a hacer para la clasificación identificado con el * el cual llamaremos como cls_token y lo definiremos con un parámetro y usaremos torch.randn para generar un número aleatóreo (se puede ver que la gente usa ceros como generación inicial pero aquí usaremos números aleatóreos) Este es un parámetro que puede volver a aprender por eso le diremos que requiere un requires_grad=True\n",
        "        self.cls_token = nn.Parameter(torch.randn(size=(1, in_channels, embed_dim)), requires_grad=True)\n",
        "        # ahora necesitamos los position embeddings y estos son los que se fusionarán con los parches y le diremos que sea el num_patches + 1 y ese \"+ 1\" es porque tenemos también el token CLS actuando como un parche. Este es un parámetro que puede volver a aprender por eso le diremos que requiere un requires_grad=True\n",
        "        self.position_embeddings = nn.Parameter(torch.randn(size=(1, num_patches+1, embed_dim)), requires_grad=True)\n",
        "        # necesitaremos también el dropout\n",
        "        self.dropout = nn.Dropout(p=dropout)\n",
        "\n",
        "    # continuaremos con el pase hacia adelante\n",
        "    def forward(self, x):\n",
        "        # comenzaremos definiendo el cls_token para que sea cls_token y se expanda con la forma de nuestra entrada donde el -1 que se está colocando significa que no cambiaremos esa dimensión y que está protegida esa dimensión\n",
        "        cls_token = self.cls_token.expand(x.shape[0], -1, -1)\n",
        "\n",
        "        # ahora haremos que consiga nuestros parches alimentándolo con nuestra entrada que sería x y lo permutaremos\n",
        "        x = self.patcher(x).permute(0, 2, 1)\n",
        "        # ahora nuevamente tomaremos a x y lo concatenaremos ya que como ya tenemos los parches (área de la derecha) entonces ahora le agregaremos el token CLS (área de la izquierda) como se puede ver en el paper\n",
        "        x = torch.cat([cls_token, x], dim=1)\n",
        "        # después de concatenar el token CLS con los parches de entrada, necesitamos fusionarlos con los position embeddings que tenemos que sumar\n",
        "        x = self.position_embeddings + x\n",
        "        # luego aplicaremos el dropout\n",
        "        x = self.dropout(x)\n",
        "        # retornaremos x\n",
        "        return x\n",
        "\n",
        "# verificar lo que estamos haciendo así que vamos a definir un modelo y para eso diremos que el modelo es igual al PatchEmbedding que creamos y le pasaremos los parámetros necesarios para luego colocarlo en el dispositivo \".to(device)\"\n",
        "model = PatchEmbedding(EMBED_DIM, PATCH_SIZE, NUM_PATCHES, DROPOUT, IN_CHANNELS).to(device)\n",
        "# definiremos una entrada que es la x y será un número aleatóreo y sus dimensiones serán de 512, su input channel de 1 y el tamaño de la imagen será de 28x28 para luego colocarlo en el dispositivo \".to(device)\"\n",
        "x = torch.randn(512, 1, 28, 28).to(device) # esto actuará como si fuera una imagen, entonces será una imagen ficticia. Esto alimentará el modelo definido x y obtendremos su forma\n",
        "print(model(x).shape) # nos dará un resultado de \"torch.Size([512, 50, 16])\" lo cual el 512 que es el tamaño tal cual lo alimentamos, la segunda dimensión de 50 es la cantidad de tokens que vamos a alimentar porque tenemos una cantidad de 49 que nos dió arriba como resultado de la fórmula \"NUM_PATCHES = (IMG_SIZE // PATCH_SIZE) ** 2\" donde aquí ya le está sumando el token CLS por eso nos da 50, y la tercera dimensión es 16 que es el tamaño de nuestros parches como nos da la fórmula de \"EMBED_DIM = (PATCH_SIZE ** 2) * IN_CHANNELS\" que nos da 16. Entonces todo esto nos está saliendo correctamente"
      ],
      "metadata": {
        "colab": {
          "base_uri": "https://localhost:8080/"
        },
        "id": "201TkRslbu9V",
        "outputId": "159896ce-863d-44b5-f4cb-8d21ac91888f"
      },
      "execution_count": 3,
      "outputs": [
        {
          "output_type": "stream",
          "name": "stdout",
          "text": [
            "torch.Size([512, 50, 16])\n"
          ]
        }
      ]
    },
    {
      "cell_type": "code",
      "source": [
        "# Implementar la segunda parte \"Visual Transformer\": la parte donde ponemos el encoder transformer de tal manera que podemos alimentarlo con nuestro resultados, definiremos nuestro MLP Head al final de nuestra clasificación y obtendremos nuestro resultados\n",
        "class ViT(nn.Module):\n",
        "    def __init__(self, num_patches, img_size, num_classes, patch_size, embed_dim, num_encoders, num_heads, hidden_dim, dropout, activation, in_channels):\n",
        "        super().__init__()\n",
        "        # definir la clase que usamos anteriormente lo cual nos dará la entrada a nuestro encoders y dividirá la imagen en parches\n",
        "        self.embeddings_block = PatchEmbedding(embed_dim, patch_size, num_patches, dropout, in_channels)\n",
        "\n",
        "        # necesitaremos una capa de codificador que será la encoder_layer y aquí no la haremos desde cero sino que vamos a importar un encoder transformer directamente con sus respectivos parámetros. El batch_first=True significa que cuando definimos nuestras imágenes el tamaño viene primero así que para esta codificación la capa cuyo tamaño batch viene primero como una entrada\n",
        "        encoder_layer = nn.TransformerEncoderLayer(d_model=embed_dim, nhead=num_heads, dropout=dropout, activation=activation, batch_first=True, norm_first=True)\n",
        "        # como es una capa encima de la otra, entonces el TransformerEncoder utilizará la encoder_layer que acabamos de definir\n",
        "        self.encoder_blocks = nn.TransformerEncoder(encoder_layer, num_layers=num_encoders)\n",
        "\n",
        "        # ahora vamos a definir el MLP Head con algunas configuraciones como que primero vamos a usar una capa de normalización y luego aplicaremos una capa lineal para fines de clasificación\n",
        "        self.mlp_head = nn.Sequential(\n",
        "            nn.LayerNorm(normalized_shape=embed_dim),\n",
        "            nn.Linear(in_features=embed_dim, out_features=num_classes)\n",
        "        )\n",
        "\n",
        "    # ahora lo implementaremos en la capa de avance\n",
        "    def forward(self, x):\n",
        "        x = self.embeddings_block(x) # obtendremos los embeddings y los parches de la imagen\n",
        "        x = self.encoder_blocks(x) # ahora que estamos instalados en el transformer encoder, haremos que alimenten a nuestro bloque dos de orden\n",
        "        x = self.mlp_head(x[:, 0, :])  # ahora enviaremos nuestra entrada al cabezal MLP, aplicaremos MLP y solo tomaremos el token de CLS. Como se dijo al principio entonces no estamos clasificando todo el embedding sino solo estamos clasificando el único token CLS al principio igual que una prueba de clasificación de oraciones que damos cada una que contiene toda la información que tienen otros embeddings que es un parámetro que se puede aprender y lo alimentaremos al MLP Head y solo lo clasificará\n",
        "        return x\n",
        "\n",
        "# verificar lo que estamos haciendo así que vamos a definir un modelo y para eso diremos que el modelo es igual al ViT que creamos y le pasaremos los parámetros necesarios para luego colocarlo en el dispositivo \".to(device)\"\n",
        "model = ViT(NUM_PATCHES, IMG_SIZE, NUM_CLASSES, PATCH_SIZE, EMBED_DIM, NUM_ENCODERS, NUM_HEADS, HIDDEN_DIM, DROPOUT, ACTIVATION, IN_CHANNELS).to(device)\n",
        "# definiremos una entrada que es la x y será un número aleatóreo y sus dimensiones serán de 512, su input channel de 1 y el tamaño de la imagen será de 28x28 para luego colocarlo en el dispositivo \".to(device)\"\n",
        "x = torch.randn(512, 1, 28, 28).to(device) # esto actuará como si fuera una imagen, entonces será una imagen ficticia. Esto alimentará el modelo definido x y obtendremos su forma\n",
        "print(model(x).shape) # BATCH_SIZE X NUM_CLASSES. Nos dará un resultado de \"torch.Size([512, 10])\" donde 512 es la cantidad de lotes o también podemos llamarlo como 512 imágenes y le dimos 10 clases y todo esto nos devolvió una distribución de probabilidad y que cuando hagamos una predicción eligiremos el que tenga la más alta probabilidad. Con todo lo anterior podemos ver que la implementación de nuestro transformer está completada"
      ],
      "metadata": {
        "colab": {
          "base_uri": "https://localhost:8080/"
        },
        "id": "3DwV7FEOICXi",
        "outputId": "a885f27c-b506-4b2c-be7a-265c1395abe6"
      },
      "execution_count": 4,
      "outputs": [
        {
          "output_type": "stream",
          "name": "stdout",
          "text": [
            "torch.Size([512, 10])\n"
          ]
        },
        {
          "output_type": "stream",
          "name": "stderr",
          "text": [
            "/usr/local/lib/python3.10/dist-packages/torch/nn/modules/transformer.py:286: UserWarning: enable_nested_tensor is True, but self.use_nested_tensor is False because encoder_layer.norm_first was True\n",
            "  warnings.warn(f\"enable_nested_tensor is True, but self.use_nested_tensor is False because {why_not_sparsity_fast_path}\")\n"
          ]
        }
      ]
    },
    {
      "cell_type": "code",
      "source": [
        "# Vamos a tomar el conjunto de los dataset para poder entrenarlo y veremos cómo funciona. Usaremos el dataset de amness y ahí tendremos un dataset para el entrenamiento y un dataset para las pruebas. el archivo de dataset de entrenamiento tendrá una etiqueta seguida de valores de pixeles y el dataset de prueba tendrá solo los valores de los pixeles\n",
        "train_df = pd.read_csv(\"/content/train.csv\")\n",
        "test_df = pd.read_csv(\"/content/test.csv\")\n",
        "submission_df = pd.read_csv(\"/content/sample_submission.csv\") # es opcional colocarlo"
      ],
      "metadata": {
        "id": "36lDQFkfPVt0"
      },
      "execution_count": 5,
      "outputs": []
    },
    {
      "cell_type": "code",
      "source": [
        "# Miraremos los datos de entrenamiento\n",
        "train_df.head()"
      ],
      "metadata": {
        "colab": {
          "base_uri": "https://localhost:8080/",
          "height": 255
        },
        "id": "pRSC4OvPU8n6",
        "outputId": "3b939c0a-d9df-4164-d4ac-9ad2804023a4"
      },
      "execution_count": 6,
      "outputs": [
        {
          "output_type": "execute_result",
          "data": {
            "text/plain": [
              "   label  pixel0  pixel1  pixel2  pixel3  pixel4  pixel5  pixel6  pixel7  \\\n",
              "0      1       0       0       0       0       0       0       0       0   \n",
              "1      0       0       0       0       0       0       0       0       0   \n",
              "2      1       0       0       0       0       0       0       0       0   \n",
              "3      4       0       0       0       0       0       0       0       0   \n",
              "4      0       0       0       0       0       0       0       0       0   \n",
              "\n",
              "   pixel8  ...  pixel774  pixel775  pixel776  pixel777  pixel778  pixel779  \\\n",
              "0       0  ...         0         0         0         0         0         0   \n",
              "1       0  ...         0         0         0         0         0         0   \n",
              "2       0  ...         0         0         0         0         0         0   \n",
              "3       0  ...         0         0         0         0         0         0   \n",
              "4       0  ...         0         0         0         0         0         0   \n",
              "\n",
              "   pixel780  pixel781  pixel782  pixel783  \n",
              "0         0         0         0         0  \n",
              "1         0         0         0         0  \n",
              "2         0         0         0         0  \n",
              "3         0         0         0         0  \n",
              "4         0         0         0         0  \n",
              "\n",
              "[5 rows x 785 columns]"
            ],
            "text/html": [
              "\n",
              "  <div id=\"df-037cb0f7-7804-41b7-8861-ca7fdc437b02\" class=\"colab-df-container\">\n",
              "    <div>\n",
              "<style scoped>\n",
              "    .dataframe tbody tr th:only-of-type {\n",
              "        vertical-align: middle;\n",
              "    }\n",
              "\n",
              "    .dataframe tbody tr th {\n",
              "        vertical-align: top;\n",
              "    }\n",
              "\n",
              "    .dataframe thead th {\n",
              "        text-align: right;\n",
              "    }\n",
              "</style>\n",
              "<table border=\"1\" class=\"dataframe\">\n",
              "  <thead>\n",
              "    <tr style=\"text-align: right;\">\n",
              "      <th></th>\n",
              "      <th>label</th>\n",
              "      <th>pixel0</th>\n",
              "      <th>pixel1</th>\n",
              "      <th>pixel2</th>\n",
              "      <th>pixel3</th>\n",
              "      <th>pixel4</th>\n",
              "      <th>pixel5</th>\n",
              "      <th>pixel6</th>\n",
              "      <th>pixel7</th>\n",
              "      <th>pixel8</th>\n",
              "      <th>...</th>\n",
              "      <th>pixel774</th>\n",
              "      <th>pixel775</th>\n",
              "      <th>pixel776</th>\n",
              "      <th>pixel777</th>\n",
              "      <th>pixel778</th>\n",
              "      <th>pixel779</th>\n",
              "      <th>pixel780</th>\n",
              "      <th>pixel781</th>\n",
              "      <th>pixel782</th>\n",
              "      <th>pixel783</th>\n",
              "    </tr>\n",
              "  </thead>\n",
              "  <tbody>\n",
              "    <tr>\n",
              "      <th>0</th>\n",
              "      <td>1</td>\n",
              "      <td>0</td>\n",
              "      <td>0</td>\n",
              "      <td>0</td>\n",
              "      <td>0</td>\n",
              "      <td>0</td>\n",
              "      <td>0</td>\n",
              "      <td>0</td>\n",
              "      <td>0</td>\n",
              "      <td>0</td>\n",
              "      <td>...</td>\n",
              "      <td>0</td>\n",
              "      <td>0</td>\n",
              "      <td>0</td>\n",
              "      <td>0</td>\n",
              "      <td>0</td>\n",
              "      <td>0</td>\n",
              "      <td>0</td>\n",
              "      <td>0</td>\n",
              "      <td>0</td>\n",
              "      <td>0</td>\n",
              "    </tr>\n",
              "    <tr>\n",
              "      <th>1</th>\n",
              "      <td>0</td>\n",
              "      <td>0</td>\n",
              "      <td>0</td>\n",
              "      <td>0</td>\n",
              "      <td>0</td>\n",
              "      <td>0</td>\n",
              "      <td>0</td>\n",
              "      <td>0</td>\n",
              "      <td>0</td>\n",
              "      <td>0</td>\n",
              "      <td>...</td>\n",
              "      <td>0</td>\n",
              "      <td>0</td>\n",
              "      <td>0</td>\n",
              "      <td>0</td>\n",
              "      <td>0</td>\n",
              "      <td>0</td>\n",
              "      <td>0</td>\n",
              "      <td>0</td>\n",
              "      <td>0</td>\n",
              "      <td>0</td>\n",
              "    </tr>\n",
              "    <tr>\n",
              "      <th>2</th>\n",
              "      <td>1</td>\n",
              "      <td>0</td>\n",
              "      <td>0</td>\n",
              "      <td>0</td>\n",
              "      <td>0</td>\n",
              "      <td>0</td>\n",
              "      <td>0</td>\n",
              "      <td>0</td>\n",
              "      <td>0</td>\n",
              "      <td>0</td>\n",
              "      <td>...</td>\n",
              "      <td>0</td>\n",
              "      <td>0</td>\n",
              "      <td>0</td>\n",
              "      <td>0</td>\n",
              "      <td>0</td>\n",
              "      <td>0</td>\n",
              "      <td>0</td>\n",
              "      <td>0</td>\n",
              "      <td>0</td>\n",
              "      <td>0</td>\n",
              "    </tr>\n",
              "    <tr>\n",
              "      <th>3</th>\n",
              "      <td>4</td>\n",
              "      <td>0</td>\n",
              "      <td>0</td>\n",
              "      <td>0</td>\n",
              "      <td>0</td>\n",
              "      <td>0</td>\n",
              "      <td>0</td>\n",
              "      <td>0</td>\n",
              "      <td>0</td>\n",
              "      <td>0</td>\n",
              "      <td>...</td>\n",
              "      <td>0</td>\n",
              "      <td>0</td>\n",
              "      <td>0</td>\n",
              "      <td>0</td>\n",
              "      <td>0</td>\n",
              "      <td>0</td>\n",
              "      <td>0</td>\n",
              "      <td>0</td>\n",
              "      <td>0</td>\n",
              "      <td>0</td>\n",
              "    </tr>\n",
              "    <tr>\n",
              "      <th>4</th>\n",
              "      <td>0</td>\n",
              "      <td>0</td>\n",
              "      <td>0</td>\n",
              "      <td>0</td>\n",
              "      <td>0</td>\n",
              "      <td>0</td>\n",
              "      <td>0</td>\n",
              "      <td>0</td>\n",
              "      <td>0</td>\n",
              "      <td>0</td>\n",
              "      <td>...</td>\n",
              "      <td>0</td>\n",
              "      <td>0</td>\n",
              "      <td>0</td>\n",
              "      <td>0</td>\n",
              "      <td>0</td>\n",
              "      <td>0</td>\n",
              "      <td>0</td>\n",
              "      <td>0</td>\n",
              "      <td>0</td>\n",
              "      <td>0</td>\n",
              "    </tr>\n",
              "  </tbody>\n",
              "</table>\n",
              "<p>5 rows × 785 columns</p>\n",
              "</div>\n",
              "    <div class=\"colab-df-buttons\">\n",
              "\n",
              "  <div class=\"colab-df-container\">\n",
              "    <button class=\"colab-df-convert\" onclick=\"convertToInteractive('df-037cb0f7-7804-41b7-8861-ca7fdc437b02')\"\n",
              "            title=\"Convert this dataframe to an interactive table.\"\n",
              "            style=\"display:none;\">\n",
              "\n",
              "  <svg xmlns=\"http://www.w3.org/2000/svg\" height=\"24px\" viewBox=\"0 -960 960 960\">\n",
              "    <path d=\"M120-120v-720h720v720H120Zm60-500h600v-160H180v160Zm220 220h160v-160H400v160Zm0 220h160v-160H400v160ZM180-400h160v-160H180v160Zm440 0h160v-160H620v160ZM180-180h160v-160H180v160Zm440 0h160v-160H620v160Z\"/>\n",
              "  </svg>\n",
              "    </button>\n",
              "\n",
              "  <style>\n",
              "    .colab-df-container {\n",
              "      display:flex;\n",
              "      gap: 12px;\n",
              "    }\n",
              "\n",
              "    .colab-df-convert {\n",
              "      background-color: #E8F0FE;\n",
              "      border: none;\n",
              "      border-radius: 50%;\n",
              "      cursor: pointer;\n",
              "      display: none;\n",
              "      fill: #1967D2;\n",
              "      height: 32px;\n",
              "      padding: 0 0 0 0;\n",
              "      width: 32px;\n",
              "    }\n",
              "\n",
              "    .colab-df-convert:hover {\n",
              "      background-color: #E2EBFA;\n",
              "      box-shadow: 0px 1px 2px rgba(60, 64, 67, 0.3), 0px 1px 3px 1px rgba(60, 64, 67, 0.15);\n",
              "      fill: #174EA6;\n",
              "    }\n",
              "\n",
              "    .colab-df-buttons div {\n",
              "      margin-bottom: 4px;\n",
              "    }\n",
              "\n",
              "    [theme=dark] .colab-df-convert {\n",
              "      background-color: #3B4455;\n",
              "      fill: #D2E3FC;\n",
              "    }\n",
              "\n",
              "    [theme=dark] .colab-df-convert:hover {\n",
              "      background-color: #434B5C;\n",
              "      box-shadow: 0px 1px 3px 1px rgba(0, 0, 0, 0.15);\n",
              "      filter: drop-shadow(0px 1px 2px rgba(0, 0, 0, 0.3));\n",
              "      fill: #FFFFFF;\n",
              "    }\n",
              "  </style>\n",
              "\n",
              "    <script>\n",
              "      const buttonEl =\n",
              "        document.querySelector('#df-037cb0f7-7804-41b7-8861-ca7fdc437b02 button.colab-df-convert');\n",
              "      buttonEl.style.display =\n",
              "        google.colab.kernel.accessAllowed ? 'block' : 'none';\n",
              "\n",
              "      async function convertToInteractive(key) {\n",
              "        const element = document.querySelector('#df-037cb0f7-7804-41b7-8861-ca7fdc437b02');\n",
              "        const dataTable =\n",
              "          await google.colab.kernel.invokeFunction('convertToInteractive',\n",
              "                                                    [key], {});\n",
              "        if (!dataTable) return;\n",
              "\n",
              "        const docLinkHtml = 'Like what you see? Visit the ' +\n",
              "          '<a target=\"_blank\" href=https://colab.research.google.com/notebooks/data_table.ipynb>data table notebook</a>'\n",
              "          + ' to learn more about interactive tables.';\n",
              "        element.innerHTML = '';\n",
              "        dataTable['output_type'] = 'display_data';\n",
              "        await google.colab.output.renderOutput(dataTable, element);\n",
              "        const docLink = document.createElement('div');\n",
              "        docLink.innerHTML = docLinkHtml;\n",
              "        element.appendChild(docLink);\n",
              "      }\n",
              "    </script>\n",
              "  </div>\n",
              "\n",
              "\n",
              "<div id=\"df-3fe79775-b64e-4b3a-b20a-6c4123f4a874\">\n",
              "  <button class=\"colab-df-quickchart\" onclick=\"quickchart('df-3fe79775-b64e-4b3a-b20a-6c4123f4a874')\"\n",
              "            title=\"Suggest charts\"\n",
              "            style=\"display:none;\">\n",
              "\n",
              "<svg xmlns=\"http://www.w3.org/2000/svg\" height=\"24px\"viewBox=\"0 0 24 24\"\n",
              "     width=\"24px\">\n",
              "    <g>\n",
              "        <path d=\"M19 3H5c-1.1 0-2 .9-2 2v14c0 1.1.9 2 2 2h14c1.1 0 2-.9 2-2V5c0-1.1-.9-2-2-2zM9 17H7v-7h2v7zm4 0h-2V7h2v10zm4 0h-2v-4h2v4z\"/>\n",
              "    </g>\n",
              "</svg>\n",
              "  </button>\n",
              "\n",
              "<style>\n",
              "  .colab-df-quickchart {\n",
              "      --bg-color: #E8F0FE;\n",
              "      --fill-color: #1967D2;\n",
              "      --hover-bg-color: #E2EBFA;\n",
              "      --hover-fill-color: #174EA6;\n",
              "      --disabled-fill-color: #AAA;\n",
              "      --disabled-bg-color: #DDD;\n",
              "  }\n",
              "\n",
              "  [theme=dark] .colab-df-quickchart {\n",
              "      --bg-color: #3B4455;\n",
              "      --fill-color: #D2E3FC;\n",
              "      --hover-bg-color: #434B5C;\n",
              "      --hover-fill-color: #FFFFFF;\n",
              "      --disabled-bg-color: #3B4455;\n",
              "      --disabled-fill-color: #666;\n",
              "  }\n",
              "\n",
              "  .colab-df-quickchart {\n",
              "    background-color: var(--bg-color);\n",
              "    border: none;\n",
              "    border-radius: 50%;\n",
              "    cursor: pointer;\n",
              "    display: none;\n",
              "    fill: var(--fill-color);\n",
              "    height: 32px;\n",
              "    padding: 0;\n",
              "    width: 32px;\n",
              "  }\n",
              "\n",
              "  .colab-df-quickchart:hover {\n",
              "    background-color: var(--hover-bg-color);\n",
              "    box-shadow: 0 1px 2px rgba(60, 64, 67, 0.3), 0 1px 3px 1px rgba(60, 64, 67, 0.15);\n",
              "    fill: var(--button-hover-fill-color);\n",
              "  }\n",
              "\n",
              "  .colab-df-quickchart-complete:disabled,\n",
              "  .colab-df-quickchart-complete:disabled:hover {\n",
              "    background-color: var(--disabled-bg-color);\n",
              "    fill: var(--disabled-fill-color);\n",
              "    box-shadow: none;\n",
              "  }\n",
              "\n",
              "  .colab-df-spinner {\n",
              "    border: 2px solid var(--fill-color);\n",
              "    border-color: transparent;\n",
              "    border-bottom-color: var(--fill-color);\n",
              "    animation:\n",
              "      spin 1s steps(1) infinite;\n",
              "  }\n",
              "\n",
              "  @keyframes spin {\n",
              "    0% {\n",
              "      border-color: transparent;\n",
              "      border-bottom-color: var(--fill-color);\n",
              "      border-left-color: var(--fill-color);\n",
              "    }\n",
              "    20% {\n",
              "      border-color: transparent;\n",
              "      border-left-color: var(--fill-color);\n",
              "      border-top-color: var(--fill-color);\n",
              "    }\n",
              "    30% {\n",
              "      border-color: transparent;\n",
              "      border-left-color: var(--fill-color);\n",
              "      border-top-color: var(--fill-color);\n",
              "      border-right-color: var(--fill-color);\n",
              "    }\n",
              "    40% {\n",
              "      border-color: transparent;\n",
              "      border-right-color: var(--fill-color);\n",
              "      border-top-color: var(--fill-color);\n",
              "    }\n",
              "    60% {\n",
              "      border-color: transparent;\n",
              "      border-right-color: var(--fill-color);\n",
              "    }\n",
              "    80% {\n",
              "      border-color: transparent;\n",
              "      border-right-color: var(--fill-color);\n",
              "      border-bottom-color: var(--fill-color);\n",
              "    }\n",
              "    90% {\n",
              "      border-color: transparent;\n",
              "      border-bottom-color: var(--fill-color);\n",
              "    }\n",
              "  }\n",
              "</style>\n",
              "\n",
              "  <script>\n",
              "    async function quickchart(key) {\n",
              "      const quickchartButtonEl =\n",
              "        document.querySelector('#' + key + ' button');\n",
              "      quickchartButtonEl.disabled = true;  // To prevent multiple clicks.\n",
              "      quickchartButtonEl.classList.add('colab-df-spinner');\n",
              "      try {\n",
              "        const charts = await google.colab.kernel.invokeFunction(\n",
              "            'suggestCharts', [key], {});\n",
              "      } catch (error) {\n",
              "        console.error('Error during call to suggestCharts:', error);\n",
              "      }\n",
              "      quickchartButtonEl.classList.remove('colab-df-spinner');\n",
              "      quickchartButtonEl.classList.add('colab-df-quickchart-complete');\n",
              "    }\n",
              "    (() => {\n",
              "      let quickchartButtonEl =\n",
              "        document.querySelector('#df-3fe79775-b64e-4b3a-b20a-6c4123f4a874 button');\n",
              "      quickchartButtonEl.style.display =\n",
              "        google.colab.kernel.accessAllowed ? 'block' : 'none';\n",
              "    })();\n",
              "  </script>\n",
              "</div>\n",
              "\n",
              "    </div>\n",
              "  </div>\n"
            ],
            "application/vnd.google.colaboratory.intrinsic+json": {
              "type": "dataframe",
              "variable_name": "train_df"
            }
          },
          "metadata": {},
          "execution_count": 6
        }
      ]
    },
    {
      "cell_type": "code",
      "source": [
        "# Miraremos los datos de prueba\n",
        "test_df.head()"
      ],
      "metadata": {
        "colab": {
          "base_uri": "https://localhost:8080/",
          "height": 255
        },
        "id": "kTJAd4TqVFNn",
        "outputId": "df3a8a14-be62-4566-af69-45b1fc200f05"
      },
      "execution_count": 7,
      "outputs": [
        {
          "output_type": "execute_result",
          "data": {
            "text/plain": [
              "   pixel0  pixel1  pixel2  pixel3  pixel4  pixel5  pixel6  pixel7  pixel8  \\\n",
              "0       0       0       0       0       0       0       0       0       0   \n",
              "1       0       0       0       0       0       0       0       0       0   \n",
              "2       0       0       0       0       0       0       0       0       0   \n",
              "3       0       0       0       0       0       0       0       0       0   \n",
              "4       0       0       0       0       0       0       0       0       0   \n",
              "\n",
              "   pixel9  ...  pixel774  pixel775  pixel776  pixel777  pixel778  pixel779  \\\n",
              "0       0  ...         0         0         0         0         0         0   \n",
              "1       0  ...         0         0         0         0         0         0   \n",
              "2       0  ...         0         0         0         0         0         0   \n",
              "3       0  ...         0         0         0         0         0         0   \n",
              "4       0  ...         0         0         0         0         0         0   \n",
              "\n",
              "   pixel780  pixel781  pixel782  pixel783  \n",
              "0         0         0         0         0  \n",
              "1         0         0         0         0  \n",
              "2         0         0         0         0  \n",
              "3         0         0         0         0  \n",
              "4         0         0         0         0  \n",
              "\n",
              "[5 rows x 784 columns]"
            ],
            "text/html": [
              "\n",
              "  <div id=\"df-b5aa16e5-d0d6-4da8-b602-06157bc10e95\" class=\"colab-df-container\">\n",
              "    <div>\n",
              "<style scoped>\n",
              "    .dataframe tbody tr th:only-of-type {\n",
              "        vertical-align: middle;\n",
              "    }\n",
              "\n",
              "    .dataframe tbody tr th {\n",
              "        vertical-align: top;\n",
              "    }\n",
              "\n",
              "    .dataframe thead th {\n",
              "        text-align: right;\n",
              "    }\n",
              "</style>\n",
              "<table border=\"1\" class=\"dataframe\">\n",
              "  <thead>\n",
              "    <tr style=\"text-align: right;\">\n",
              "      <th></th>\n",
              "      <th>pixel0</th>\n",
              "      <th>pixel1</th>\n",
              "      <th>pixel2</th>\n",
              "      <th>pixel3</th>\n",
              "      <th>pixel4</th>\n",
              "      <th>pixel5</th>\n",
              "      <th>pixel6</th>\n",
              "      <th>pixel7</th>\n",
              "      <th>pixel8</th>\n",
              "      <th>pixel9</th>\n",
              "      <th>...</th>\n",
              "      <th>pixel774</th>\n",
              "      <th>pixel775</th>\n",
              "      <th>pixel776</th>\n",
              "      <th>pixel777</th>\n",
              "      <th>pixel778</th>\n",
              "      <th>pixel779</th>\n",
              "      <th>pixel780</th>\n",
              "      <th>pixel781</th>\n",
              "      <th>pixel782</th>\n",
              "      <th>pixel783</th>\n",
              "    </tr>\n",
              "  </thead>\n",
              "  <tbody>\n",
              "    <tr>\n",
              "      <th>0</th>\n",
              "      <td>0</td>\n",
              "      <td>0</td>\n",
              "      <td>0</td>\n",
              "      <td>0</td>\n",
              "      <td>0</td>\n",
              "      <td>0</td>\n",
              "      <td>0</td>\n",
              "      <td>0</td>\n",
              "      <td>0</td>\n",
              "      <td>0</td>\n",
              "      <td>...</td>\n",
              "      <td>0</td>\n",
              "      <td>0</td>\n",
              "      <td>0</td>\n",
              "      <td>0</td>\n",
              "      <td>0</td>\n",
              "      <td>0</td>\n",
              "      <td>0</td>\n",
              "      <td>0</td>\n",
              "      <td>0</td>\n",
              "      <td>0</td>\n",
              "    </tr>\n",
              "    <tr>\n",
              "      <th>1</th>\n",
              "      <td>0</td>\n",
              "      <td>0</td>\n",
              "      <td>0</td>\n",
              "      <td>0</td>\n",
              "      <td>0</td>\n",
              "      <td>0</td>\n",
              "      <td>0</td>\n",
              "      <td>0</td>\n",
              "      <td>0</td>\n",
              "      <td>0</td>\n",
              "      <td>...</td>\n",
              "      <td>0</td>\n",
              "      <td>0</td>\n",
              "      <td>0</td>\n",
              "      <td>0</td>\n",
              "      <td>0</td>\n",
              "      <td>0</td>\n",
              "      <td>0</td>\n",
              "      <td>0</td>\n",
              "      <td>0</td>\n",
              "      <td>0</td>\n",
              "    </tr>\n",
              "    <tr>\n",
              "      <th>2</th>\n",
              "      <td>0</td>\n",
              "      <td>0</td>\n",
              "      <td>0</td>\n",
              "      <td>0</td>\n",
              "      <td>0</td>\n",
              "      <td>0</td>\n",
              "      <td>0</td>\n",
              "      <td>0</td>\n",
              "      <td>0</td>\n",
              "      <td>0</td>\n",
              "      <td>...</td>\n",
              "      <td>0</td>\n",
              "      <td>0</td>\n",
              "      <td>0</td>\n",
              "      <td>0</td>\n",
              "      <td>0</td>\n",
              "      <td>0</td>\n",
              "      <td>0</td>\n",
              "      <td>0</td>\n",
              "      <td>0</td>\n",
              "      <td>0</td>\n",
              "    </tr>\n",
              "    <tr>\n",
              "      <th>3</th>\n",
              "      <td>0</td>\n",
              "      <td>0</td>\n",
              "      <td>0</td>\n",
              "      <td>0</td>\n",
              "      <td>0</td>\n",
              "      <td>0</td>\n",
              "      <td>0</td>\n",
              "      <td>0</td>\n",
              "      <td>0</td>\n",
              "      <td>0</td>\n",
              "      <td>...</td>\n",
              "      <td>0</td>\n",
              "      <td>0</td>\n",
              "      <td>0</td>\n",
              "      <td>0</td>\n",
              "      <td>0</td>\n",
              "      <td>0</td>\n",
              "      <td>0</td>\n",
              "      <td>0</td>\n",
              "      <td>0</td>\n",
              "      <td>0</td>\n",
              "    </tr>\n",
              "    <tr>\n",
              "      <th>4</th>\n",
              "      <td>0</td>\n",
              "      <td>0</td>\n",
              "      <td>0</td>\n",
              "      <td>0</td>\n",
              "      <td>0</td>\n",
              "      <td>0</td>\n",
              "      <td>0</td>\n",
              "      <td>0</td>\n",
              "      <td>0</td>\n",
              "      <td>0</td>\n",
              "      <td>...</td>\n",
              "      <td>0</td>\n",
              "      <td>0</td>\n",
              "      <td>0</td>\n",
              "      <td>0</td>\n",
              "      <td>0</td>\n",
              "      <td>0</td>\n",
              "      <td>0</td>\n",
              "      <td>0</td>\n",
              "      <td>0</td>\n",
              "      <td>0</td>\n",
              "    </tr>\n",
              "  </tbody>\n",
              "</table>\n",
              "<p>5 rows × 784 columns</p>\n",
              "</div>\n",
              "    <div class=\"colab-df-buttons\">\n",
              "\n",
              "  <div class=\"colab-df-container\">\n",
              "    <button class=\"colab-df-convert\" onclick=\"convertToInteractive('df-b5aa16e5-d0d6-4da8-b602-06157bc10e95')\"\n",
              "            title=\"Convert this dataframe to an interactive table.\"\n",
              "            style=\"display:none;\">\n",
              "\n",
              "  <svg xmlns=\"http://www.w3.org/2000/svg\" height=\"24px\" viewBox=\"0 -960 960 960\">\n",
              "    <path d=\"M120-120v-720h720v720H120Zm60-500h600v-160H180v160Zm220 220h160v-160H400v160Zm0 220h160v-160H400v160ZM180-400h160v-160H180v160Zm440 0h160v-160H620v160ZM180-180h160v-160H180v160Zm440 0h160v-160H620v160Z\"/>\n",
              "  </svg>\n",
              "    </button>\n",
              "\n",
              "  <style>\n",
              "    .colab-df-container {\n",
              "      display:flex;\n",
              "      gap: 12px;\n",
              "    }\n",
              "\n",
              "    .colab-df-convert {\n",
              "      background-color: #E8F0FE;\n",
              "      border: none;\n",
              "      border-radius: 50%;\n",
              "      cursor: pointer;\n",
              "      display: none;\n",
              "      fill: #1967D2;\n",
              "      height: 32px;\n",
              "      padding: 0 0 0 0;\n",
              "      width: 32px;\n",
              "    }\n",
              "\n",
              "    .colab-df-convert:hover {\n",
              "      background-color: #E2EBFA;\n",
              "      box-shadow: 0px 1px 2px rgba(60, 64, 67, 0.3), 0px 1px 3px 1px rgba(60, 64, 67, 0.15);\n",
              "      fill: #174EA6;\n",
              "    }\n",
              "\n",
              "    .colab-df-buttons div {\n",
              "      margin-bottom: 4px;\n",
              "    }\n",
              "\n",
              "    [theme=dark] .colab-df-convert {\n",
              "      background-color: #3B4455;\n",
              "      fill: #D2E3FC;\n",
              "    }\n",
              "\n",
              "    [theme=dark] .colab-df-convert:hover {\n",
              "      background-color: #434B5C;\n",
              "      box-shadow: 0px 1px 3px 1px rgba(0, 0, 0, 0.15);\n",
              "      filter: drop-shadow(0px 1px 2px rgba(0, 0, 0, 0.3));\n",
              "      fill: #FFFFFF;\n",
              "    }\n",
              "  </style>\n",
              "\n",
              "    <script>\n",
              "      const buttonEl =\n",
              "        document.querySelector('#df-b5aa16e5-d0d6-4da8-b602-06157bc10e95 button.colab-df-convert');\n",
              "      buttonEl.style.display =\n",
              "        google.colab.kernel.accessAllowed ? 'block' : 'none';\n",
              "\n",
              "      async function convertToInteractive(key) {\n",
              "        const element = document.querySelector('#df-b5aa16e5-d0d6-4da8-b602-06157bc10e95');\n",
              "        const dataTable =\n",
              "          await google.colab.kernel.invokeFunction('convertToInteractive',\n",
              "                                                    [key], {});\n",
              "        if (!dataTable) return;\n",
              "\n",
              "        const docLinkHtml = 'Like what you see? Visit the ' +\n",
              "          '<a target=\"_blank\" href=https://colab.research.google.com/notebooks/data_table.ipynb>data table notebook</a>'\n",
              "          + ' to learn more about interactive tables.';\n",
              "        element.innerHTML = '';\n",
              "        dataTable['output_type'] = 'display_data';\n",
              "        await google.colab.output.renderOutput(dataTable, element);\n",
              "        const docLink = document.createElement('div');\n",
              "        docLink.innerHTML = docLinkHtml;\n",
              "        element.appendChild(docLink);\n",
              "      }\n",
              "    </script>\n",
              "  </div>\n",
              "\n",
              "\n",
              "<div id=\"df-7895acb9-9248-45c4-ab9c-723357925a5b\">\n",
              "  <button class=\"colab-df-quickchart\" onclick=\"quickchart('df-7895acb9-9248-45c4-ab9c-723357925a5b')\"\n",
              "            title=\"Suggest charts\"\n",
              "            style=\"display:none;\">\n",
              "\n",
              "<svg xmlns=\"http://www.w3.org/2000/svg\" height=\"24px\"viewBox=\"0 0 24 24\"\n",
              "     width=\"24px\">\n",
              "    <g>\n",
              "        <path d=\"M19 3H5c-1.1 0-2 .9-2 2v14c0 1.1.9 2 2 2h14c1.1 0 2-.9 2-2V5c0-1.1-.9-2-2-2zM9 17H7v-7h2v7zm4 0h-2V7h2v10zm4 0h-2v-4h2v4z\"/>\n",
              "    </g>\n",
              "</svg>\n",
              "  </button>\n",
              "\n",
              "<style>\n",
              "  .colab-df-quickchart {\n",
              "      --bg-color: #E8F0FE;\n",
              "      --fill-color: #1967D2;\n",
              "      --hover-bg-color: #E2EBFA;\n",
              "      --hover-fill-color: #174EA6;\n",
              "      --disabled-fill-color: #AAA;\n",
              "      --disabled-bg-color: #DDD;\n",
              "  }\n",
              "\n",
              "  [theme=dark] .colab-df-quickchart {\n",
              "      --bg-color: #3B4455;\n",
              "      --fill-color: #D2E3FC;\n",
              "      --hover-bg-color: #434B5C;\n",
              "      --hover-fill-color: #FFFFFF;\n",
              "      --disabled-bg-color: #3B4455;\n",
              "      --disabled-fill-color: #666;\n",
              "  }\n",
              "\n",
              "  .colab-df-quickchart {\n",
              "    background-color: var(--bg-color);\n",
              "    border: none;\n",
              "    border-radius: 50%;\n",
              "    cursor: pointer;\n",
              "    display: none;\n",
              "    fill: var(--fill-color);\n",
              "    height: 32px;\n",
              "    padding: 0;\n",
              "    width: 32px;\n",
              "  }\n",
              "\n",
              "  .colab-df-quickchart:hover {\n",
              "    background-color: var(--hover-bg-color);\n",
              "    box-shadow: 0 1px 2px rgba(60, 64, 67, 0.3), 0 1px 3px 1px rgba(60, 64, 67, 0.15);\n",
              "    fill: var(--button-hover-fill-color);\n",
              "  }\n",
              "\n",
              "  .colab-df-quickchart-complete:disabled,\n",
              "  .colab-df-quickchart-complete:disabled:hover {\n",
              "    background-color: var(--disabled-bg-color);\n",
              "    fill: var(--disabled-fill-color);\n",
              "    box-shadow: none;\n",
              "  }\n",
              "\n",
              "  .colab-df-spinner {\n",
              "    border: 2px solid var(--fill-color);\n",
              "    border-color: transparent;\n",
              "    border-bottom-color: var(--fill-color);\n",
              "    animation:\n",
              "      spin 1s steps(1) infinite;\n",
              "  }\n",
              "\n",
              "  @keyframes spin {\n",
              "    0% {\n",
              "      border-color: transparent;\n",
              "      border-bottom-color: var(--fill-color);\n",
              "      border-left-color: var(--fill-color);\n",
              "    }\n",
              "    20% {\n",
              "      border-color: transparent;\n",
              "      border-left-color: var(--fill-color);\n",
              "      border-top-color: var(--fill-color);\n",
              "    }\n",
              "    30% {\n",
              "      border-color: transparent;\n",
              "      border-left-color: var(--fill-color);\n",
              "      border-top-color: var(--fill-color);\n",
              "      border-right-color: var(--fill-color);\n",
              "    }\n",
              "    40% {\n",
              "      border-color: transparent;\n",
              "      border-right-color: var(--fill-color);\n",
              "      border-top-color: var(--fill-color);\n",
              "    }\n",
              "    60% {\n",
              "      border-color: transparent;\n",
              "      border-right-color: var(--fill-color);\n",
              "    }\n",
              "    80% {\n",
              "      border-color: transparent;\n",
              "      border-right-color: var(--fill-color);\n",
              "      border-bottom-color: var(--fill-color);\n",
              "    }\n",
              "    90% {\n",
              "      border-color: transparent;\n",
              "      border-bottom-color: var(--fill-color);\n",
              "    }\n",
              "  }\n",
              "</style>\n",
              "\n",
              "  <script>\n",
              "    async function quickchart(key) {\n",
              "      const quickchartButtonEl =\n",
              "        document.querySelector('#' + key + ' button');\n",
              "      quickchartButtonEl.disabled = true;  // To prevent multiple clicks.\n",
              "      quickchartButtonEl.classList.add('colab-df-spinner');\n",
              "      try {\n",
              "        const charts = await google.colab.kernel.invokeFunction(\n",
              "            'suggestCharts', [key], {});\n",
              "      } catch (error) {\n",
              "        console.error('Error during call to suggestCharts:', error);\n",
              "      }\n",
              "      quickchartButtonEl.classList.remove('colab-df-spinner');\n",
              "      quickchartButtonEl.classList.add('colab-df-quickchart-complete');\n",
              "    }\n",
              "    (() => {\n",
              "      let quickchartButtonEl =\n",
              "        document.querySelector('#df-7895acb9-9248-45c4-ab9c-723357925a5b button');\n",
              "      quickchartButtonEl.style.display =\n",
              "        google.colab.kernel.accessAllowed ? 'block' : 'none';\n",
              "    })();\n",
              "  </script>\n",
              "</div>\n",
              "\n",
              "    </div>\n",
              "  </div>\n"
            ],
            "application/vnd.google.colaboratory.intrinsic+json": {
              "type": "dataframe",
              "variable_name": "test_df"
            }
          },
          "metadata": {},
          "execution_count": 7
        }
      ]
    },
    {
      "cell_type": "code",
      "source": [
        "# Miraremos los datos de sample_submission\n",
        "submission_df.head()"
      ],
      "metadata": {
        "colab": {
          "base_uri": "https://localhost:8080/",
          "height": 206
        },
        "id": "P6WSIM98VGGe",
        "outputId": "9a8644ac-5888-4030-f707-bf3632261a19"
      },
      "execution_count": 8,
      "outputs": [
        {
          "output_type": "execute_result",
          "data": {
            "text/plain": [
              "   ImageId  Label\n",
              "0        1      0\n",
              "1        2      0\n",
              "2        3      0\n",
              "3        4      0\n",
              "4        5      0"
            ],
            "text/html": [
              "\n",
              "  <div id=\"df-a6b2a44f-45bf-41dc-8bbb-e12cdce8ff5d\" class=\"colab-df-container\">\n",
              "    <div>\n",
              "<style scoped>\n",
              "    .dataframe tbody tr th:only-of-type {\n",
              "        vertical-align: middle;\n",
              "    }\n",
              "\n",
              "    .dataframe tbody tr th {\n",
              "        vertical-align: top;\n",
              "    }\n",
              "\n",
              "    .dataframe thead th {\n",
              "        text-align: right;\n",
              "    }\n",
              "</style>\n",
              "<table border=\"1\" class=\"dataframe\">\n",
              "  <thead>\n",
              "    <tr style=\"text-align: right;\">\n",
              "      <th></th>\n",
              "      <th>ImageId</th>\n",
              "      <th>Label</th>\n",
              "    </tr>\n",
              "  </thead>\n",
              "  <tbody>\n",
              "    <tr>\n",
              "      <th>0</th>\n",
              "      <td>1</td>\n",
              "      <td>0</td>\n",
              "    </tr>\n",
              "    <tr>\n",
              "      <th>1</th>\n",
              "      <td>2</td>\n",
              "      <td>0</td>\n",
              "    </tr>\n",
              "    <tr>\n",
              "      <th>2</th>\n",
              "      <td>3</td>\n",
              "      <td>0</td>\n",
              "    </tr>\n",
              "    <tr>\n",
              "      <th>3</th>\n",
              "      <td>4</td>\n",
              "      <td>0</td>\n",
              "    </tr>\n",
              "    <tr>\n",
              "      <th>4</th>\n",
              "      <td>5</td>\n",
              "      <td>0</td>\n",
              "    </tr>\n",
              "  </tbody>\n",
              "</table>\n",
              "</div>\n",
              "    <div class=\"colab-df-buttons\">\n",
              "\n",
              "  <div class=\"colab-df-container\">\n",
              "    <button class=\"colab-df-convert\" onclick=\"convertToInteractive('df-a6b2a44f-45bf-41dc-8bbb-e12cdce8ff5d')\"\n",
              "            title=\"Convert this dataframe to an interactive table.\"\n",
              "            style=\"display:none;\">\n",
              "\n",
              "  <svg xmlns=\"http://www.w3.org/2000/svg\" height=\"24px\" viewBox=\"0 -960 960 960\">\n",
              "    <path d=\"M120-120v-720h720v720H120Zm60-500h600v-160H180v160Zm220 220h160v-160H400v160Zm0 220h160v-160H400v160ZM180-400h160v-160H180v160Zm440 0h160v-160H620v160ZM180-180h160v-160H180v160Zm440 0h160v-160H620v160Z\"/>\n",
              "  </svg>\n",
              "    </button>\n",
              "\n",
              "  <style>\n",
              "    .colab-df-container {\n",
              "      display:flex;\n",
              "      gap: 12px;\n",
              "    }\n",
              "\n",
              "    .colab-df-convert {\n",
              "      background-color: #E8F0FE;\n",
              "      border: none;\n",
              "      border-radius: 50%;\n",
              "      cursor: pointer;\n",
              "      display: none;\n",
              "      fill: #1967D2;\n",
              "      height: 32px;\n",
              "      padding: 0 0 0 0;\n",
              "      width: 32px;\n",
              "    }\n",
              "\n",
              "    .colab-df-convert:hover {\n",
              "      background-color: #E2EBFA;\n",
              "      box-shadow: 0px 1px 2px rgba(60, 64, 67, 0.3), 0px 1px 3px 1px rgba(60, 64, 67, 0.15);\n",
              "      fill: #174EA6;\n",
              "    }\n",
              "\n",
              "    .colab-df-buttons div {\n",
              "      margin-bottom: 4px;\n",
              "    }\n",
              "\n",
              "    [theme=dark] .colab-df-convert {\n",
              "      background-color: #3B4455;\n",
              "      fill: #D2E3FC;\n",
              "    }\n",
              "\n",
              "    [theme=dark] .colab-df-convert:hover {\n",
              "      background-color: #434B5C;\n",
              "      box-shadow: 0px 1px 3px 1px rgba(0, 0, 0, 0.15);\n",
              "      filter: drop-shadow(0px 1px 2px rgba(0, 0, 0, 0.3));\n",
              "      fill: #FFFFFF;\n",
              "    }\n",
              "  </style>\n",
              "\n",
              "    <script>\n",
              "      const buttonEl =\n",
              "        document.querySelector('#df-a6b2a44f-45bf-41dc-8bbb-e12cdce8ff5d button.colab-df-convert');\n",
              "      buttonEl.style.display =\n",
              "        google.colab.kernel.accessAllowed ? 'block' : 'none';\n",
              "\n",
              "      async function convertToInteractive(key) {\n",
              "        const element = document.querySelector('#df-a6b2a44f-45bf-41dc-8bbb-e12cdce8ff5d');\n",
              "        const dataTable =\n",
              "          await google.colab.kernel.invokeFunction('convertToInteractive',\n",
              "                                                    [key], {});\n",
              "        if (!dataTable) return;\n",
              "\n",
              "        const docLinkHtml = 'Like what you see? Visit the ' +\n",
              "          '<a target=\"_blank\" href=https://colab.research.google.com/notebooks/data_table.ipynb>data table notebook</a>'\n",
              "          + ' to learn more about interactive tables.';\n",
              "        element.innerHTML = '';\n",
              "        dataTable['output_type'] = 'display_data';\n",
              "        await google.colab.output.renderOutput(dataTable, element);\n",
              "        const docLink = document.createElement('div');\n",
              "        docLink.innerHTML = docLinkHtml;\n",
              "        element.appendChild(docLink);\n",
              "      }\n",
              "    </script>\n",
              "  </div>\n",
              "\n",
              "\n",
              "<div id=\"df-03a45932-1696-4b22-b05c-50436b70d9c1\">\n",
              "  <button class=\"colab-df-quickchart\" onclick=\"quickchart('df-03a45932-1696-4b22-b05c-50436b70d9c1')\"\n",
              "            title=\"Suggest charts\"\n",
              "            style=\"display:none;\">\n",
              "\n",
              "<svg xmlns=\"http://www.w3.org/2000/svg\" height=\"24px\"viewBox=\"0 0 24 24\"\n",
              "     width=\"24px\">\n",
              "    <g>\n",
              "        <path d=\"M19 3H5c-1.1 0-2 .9-2 2v14c0 1.1.9 2 2 2h14c1.1 0 2-.9 2-2V5c0-1.1-.9-2-2-2zM9 17H7v-7h2v7zm4 0h-2V7h2v10zm4 0h-2v-4h2v4z\"/>\n",
              "    </g>\n",
              "</svg>\n",
              "  </button>\n",
              "\n",
              "<style>\n",
              "  .colab-df-quickchart {\n",
              "      --bg-color: #E8F0FE;\n",
              "      --fill-color: #1967D2;\n",
              "      --hover-bg-color: #E2EBFA;\n",
              "      --hover-fill-color: #174EA6;\n",
              "      --disabled-fill-color: #AAA;\n",
              "      --disabled-bg-color: #DDD;\n",
              "  }\n",
              "\n",
              "  [theme=dark] .colab-df-quickchart {\n",
              "      --bg-color: #3B4455;\n",
              "      --fill-color: #D2E3FC;\n",
              "      --hover-bg-color: #434B5C;\n",
              "      --hover-fill-color: #FFFFFF;\n",
              "      --disabled-bg-color: #3B4455;\n",
              "      --disabled-fill-color: #666;\n",
              "  }\n",
              "\n",
              "  .colab-df-quickchart {\n",
              "    background-color: var(--bg-color);\n",
              "    border: none;\n",
              "    border-radius: 50%;\n",
              "    cursor: pointer;\n",
              "    display: none;\n",
              "    fill: var(--fill-color);\n",
              "    height: 32px;\n",
              "    padding: 0;\n",
              "    width: 32px;\n",
              "  }\n",
              "\n",
              "  .colab-df-quickchart:hover {\n",
              "    background-color: var(--hover-bg-color);\n",
              "    box-shadow: 0 1px 2px rgba(60, 64, 67, 0.3), 0 1px 3px 1px rgba(60, 64, 67, 0.15);\n",
              "    fill: var(--button-hover-fill-color);\n",
              "  }\n",
              "\n",
              "  .colab-df-quickchart-complete:disabled,\n",
              "  .colab-df-quickchart-complete:disabled:hover {\n",
              "    background-color: var(--disabled-bg-color);\n",
              "    fill: var(--disabled-fill-color);\n",
              "    box-shadow: none;\n",
              "  }\n",
              "\n",
              "  .colab-df-spinner {\n",
              "    border: 2px solid var(--fill-color);\n",
              "    border-color: transparent;\n",
              "    border-bottom-color: var(--fill-color);\n",
              "    animation:\n",
              "      spin 1s steps(1) infinite;\n",
              "  }\n",
              "\n",
              "  @keyframes spin {\n",
              "    0% {\n",
              "      border-color: transparent;\n",
              "      border-bottom-color: var(--fill-color);\n",
              "      border-left-color: var(--fill-color);\n",
              "    }\n",
              "    20% {\n",
              "      border-color: transparent;\n",
              "      border-left-color: var(--fill-color);\n",
              "      border-top-color: var(--fill-color);\n",
              "    }\n",
              "    30% {\n",
              "      border-color: transparent;\n",
              "      border-left-color: var(--fill-color);\n",
              "      border-top-color: var(--fill-color);\n",
              "      border-right-color: var(--fill-color);\n",
              "    }\n",
              "    40% {\n",
              "      border-color: transparent;\n",
              "      border-right-color: var(--fill-color);\n",
              "      border-top-color: var(--fill-color);\n",
              "    }\n",
              "    60% {\n",
              "      border-color: transparent;\n",
              "      border-right-color: var(--fill-color);\n",
              "    }\n",
              "    80% {\n",
              "      border-color: transparent;\n",
              "      border-right-color: var(--fill-color);\n",
              "      border-bottom-color: var(--fill-color);\n",
              "    }\n",
              "    90% {\n",
              "      border-color: transparent;\n",
              "      border-bottom-color: var(--fill-color);\n",
              "    }\n",
              "  }\n",
              "</style>\n",
              "\n",
              "  <script>\n",
              "    async function quickchart(key) {\n",
              "      const quickchartButtonEl =\n",
              "        document.querySelector('#' + key + ' button');\n",
              "      quickchartButtonEl.disabled = true;  // To prevent multiple clicks.\n",
              "      quickchartButtonEl.classList.add('colab-df-spinner');\n",
              "      try {\n",
              "        const charts = await google.colab.kernel.invokeFunction(\n",
              "            'suggestCharts', [key], {});\n",
              "      } catch (error) {\n",
              "        console.error('Error during call to suggestCharts:', error);\n",
              "      }\n",
              "      quickchartButtonEl.classList.remove('colab-df-spinner');\n",
              "      quickchartButtonEl.classList.add('colab-df-quickchart-complete');\n",
              "    }\n",
              "    (() => {\n",
              "      let quickchartButtonEl =\n",
              "        document.querySelector('#df-03a45932-1696-4b22-b05c-50436b70d9c1 button');\n",
              "      quickchartButtonEl.style.display =\n",
              "        google.colab.kernel.accessAllowed ? 'block' : 'none';\n",
              "    })();\n",
              "  </script>\n",
              "</div>\n",
              "\n",
              "    </div>\n",
              "  </div>\n"
            ],
            "application/vnd.google.colaboratory.intrinsic+json": {
              "type": "dataframe",
              "variable_name": "submission_df",
              "summary": "{\n  \"name\": \"submission_df\",\n  \"rows\": 28000,\n  \"fields\": [\n    {\n      \"column\": \"ImageId\",\n      \"properties\": {\n        \"dtype\": \"number\",\n        \"std\": 8083,\n        \"min\": 1,\n        \"max\": 28000,\n        \"num_unique_values\": 28000,\n        \"samples\": [\n          18407,\n          5035,\n          18326\n        ],\n        \"semantic_type\": \"\",\n        \"description\": \"\"\n      }\n    },\n    {\n      \"column\": \"Label\",\n      \"properties\": {\n        \"dtype\": \"number\",\n        \"std\": 0,\n        \"min\": 0,\n        \"max\": 0,\n        \"num_unique_values\": 1,\n        \"samples\": [\n          0\n        ],\n        \"semantic_type\": \"\",\n        \"description\": \"\"\n      }\n    }\n  ]\n}"
            }
          },
          "metadata": {},
          "execution_count": 8
        }
      ]
    },
    {
      "cell_type": "code",
      "source": [
        "# Vamos a dividir los datos en marcos de datos de entrenamiento y validaciones (test_size=0.1 quiere decir que el 0.1 de los datos se validarán) y con shuffle=True mezclaremos nuestro dataset\n",
        "train_df, val_df = train_test_split(train_df, test_size=0.1, random_state=RANDOM_SEED, shuffle=True)"
      ],
      "metadata": {
        "id": "blp659EBWCMT"
      },
      "execution_count": 9,
      "outputs": []
    },
    {
      "cell_type": "code",
      "source": [
        "# Vamos a necesitar 3 objetos de dataset separados, uno para entrenar, uno para las validaciones y uno para pruebas y estos 3 serán muy similares\n",
        "class MNISTTrainDataset(Dataset):\n",
        "    def __init__(self, images, labels, indicies):\n",
        "        self.images = images\n",
        "        self.labels = labels\n",
        "        self.indicies = indicies\n",
        "        # con esto vamos a modificar las imágenes y con las operaciones que vamos a definir ahora se aplicarán a la imagen\n",
        "        self.transform = transforms.Compose([\n",
        "            transforms.ToPILImage(), # transformar la imagen en una imagen PIL\n",
        "            transforms.RandomRotation(15), # transformar en rotación aleatoria en 15 grados y con esto entonces daremos un aumento de datos (también se pueden aplicar otras técnicas para aumentar la cantidad de datos que se tienen pero es importante recordar que eso solo se hace con los datos de entrenamiento)\n",
        "            transforms.ToTensor(), # transfomar todo a un tensor\n",
        "            transforms.Normalize([0.5], [0.5]) # al final normalizar\n",
        "        ])\n",
        "\n",
        "    # por ser un dataset de pytorch necesitamos la función de longitud inicial y la función de obtener el elemento\n",
        "    # definir la función para obtener la longitud para que retorne la longitud de las imágenes. Cuando llamamos a una longitud nos devolverá la longitud del dataset\n",
        "    def __len__(self):\n",
        "        return len(self.images)\n",
        "\n",
        "    # definir la función para obtener el elemento y lo que hará es que cuando se le de un índice nos devolverá los datos en el índice específico por lo que retornaremos la imagen propia y con esto podremos escoger las imágenes con solo los índices\n",
        "    def __getitem__(self, idx):\n",
        "        image = self.images[idx].reshape((28, 28)).astype(np.uint8) # remodelaremos la imagen de 28x28 a \"np.uint8\" y esto porque el entero 8 es pequeño, no es necesario usar otro como \"long\" o similar\n",
        "        label = self.labels[idx] # necesitamos las etiquetas\n",
        "        index = self.indicies[idx] # necesitamos los índices\n",
        "        image = self.transform(image) # necesitamos aplicar la transformación que hicimos arriba de \"self.transform = transforms.Compose([......])\"\n",
        "\n",
        "        # retornar todo como un objeto de la imagen\n",
        "        return {\"image\": image, \"label\": label, \"index\": index}\n",
        "\n",
        "# esta clase es muy similar a la de MNISTTrainDataset solo que como se mencionó arriba aquí no vamos a utilizar alguna técnica para el aumento de datos ya que eso solo se hace con los datos de entrenamiento porque si se utiliza en el entrenamiento y en las pruebas entonces nos pueden dar resultado de error porque aquí en la validación queremos los datos puros del dataset sin aumentos, sin embargo, aún podemos aplicar la normalización y demás porque en el tiempo la inferancia en el tiempo de ejecución (runtime) o si se implementa este modelo para producción aún se puede aplicar estas normalizaciones a la imagen que se toma como entrada\n",
        "class MNISTValDataset(Dataset):\n",
        "    def __init__(self, images, labels, indicies):\n",
        "        self.images = images\n",
        "        self.labels = labels\n",
        "        self.indicies = indicies\n",
        "        self.transform = transforms.Compose([\n",
        "            transforms.ToTensor(),\n",
        "            transforms.Normalize([0.5], [0.5])\n",
        "        ])\n",
        "\n",
        "    def __len__(self):\n",
        "        return len(self.images)\n",
        "\n",
        "    def __getitem__(self, idx):\n",
        "        image = self.images[idx].reshape((28, 28)).astype(np.uint8)\n",
        "        label = self.labels[idx]\n",
        "        index = self.indicies[idx]\n",
        "        image = self.transform(image)\n",
        "\n",
        "        return {\"image\": image, \"label\": label, \"index\": index}\n",
        "\n",
        "# esta clase es muy similar a la de MNISTValDataset pero aquí como es un dataset de prueba no tendremos ninguna etiqueta como entrada porque eso es lo que estamos tratando de predecir y por eso se eliminan los labels\n",
        "class MNISTSubmitDataset(Dataset):\n",
        "    def __init__(self, images, indicies):\n",
        "        self.images = images\n",
        "        self.indicies = indicies\n",
        "        self.transform = transforms.Compose([\n",
        "            transforms.ToTensor(),\n",
        "            transforms.Normalize([0.5], [0.5])\n",
        "        ])\n",
        "\n",
        "    def __len__(self):\n",
        "        return len(self.images)\n",
        "\n",
        "    def __getitem__(self, idx):\n",
        "        image = self.images[idx].reshape((28, 28)).astype(np.uint8)\n",
        "        index = self.indicies[idx]\n",
        "        image = self.transform(image)\n",
        "\n",
        "        return {\"image\": image, \"index\": index}"
      ],
      "metadata": {
        "id": "Rjkc2uKaWkY4"
      },
      "execution_count": 10,
      "outputs": []
    },
    {
      "cell_type": "code",
      "source": [
        "# Para recordar lo realizado hasta ahora, simplemente definimos algunos modelos de vision transformers y luego de definir las clases las probamos para corroborar que estaban funcionando correctamente, entonces haremos lo mismo para estos datasets, entonces tomaremos algunos datos y los dibujaremos\n",
        "plt.figure()\n",
        "f, axarr = plt.subplots(1, 3) # tomar una fila y colocar tres columnas para la validación y prueba del dataset\n",
        "\n",
        "# lo que hace es que, como en el train en la primera columna tenemos las etiquetas pero no las queremos y solo tomaremos los pixeles entonces por eso \"train_df.iloc[:, 1:]\" y con \"rain_df.iloc[:, 0]\" tomamos la columna 0 porque ahí contiene los labels\n",
        "train_dataset = MNISTTrainDataset(train_df.iloc[:, 1:].values.astype(np.uint8), train_df.iloc[:, 0].values, train_df.index.values)\n",
        "print(len(train_dataset))\n",
        "print(train_dataset[0]) # tomar el índice 0 del dataset para saber que la función de obtener los elementos funciona\n",
        "axarr[0].imshow(train_dataset[0][\"image\"].squeeze(), cmap=\"gray\") # mostrar una imagen del dataset usando el índice 0 lo que significa que escribiremos en la columna 0 de nuestra subplot y decimos que estamos mostrando el dataset y tomamos la imagen en el índice 0 y seleccionamos la propiedad image de los objetos que estamos generando de \"return {\"image\": image, \"label\": label, \"index\": index}\" y luego comprimirla con \".squeeze()\" porque nos dará un tamaño de fondo o un input channel pero no queremos esa entrada aquí entonces por eso básicamente la comprimimos y ya no obtenemos ese input channel y con 'cmap=\"gray\"' le pondremos un fondo gris\n",
        "axarr[0].set_title(\"Train Image\")\n",
        "print(\"-\"*30) # colocar un separador\n",
        "\n",
        "val_dataset = MNISTValDataset(val_df.iloc[:, 1:].values.astype(np.uint8), val_df.iloc[:, 0].values, val_df.index.values)\n",
        "print(len(val_dataset))\n",
        "print(val_dataset[0])\n",
        "axarr[1].imshow(val_dataset[0][\"image\"].squeeze(), cmap=\"gray\") # estamos usando ya la columna de la segunda posición \"axarr[1]\" de nuestro gráfico no como arriba que se usa la primera posición con \"axarr[0]\"\n",
        "axarr[1].set_title(\"Validation Image\")\n",
        "print(\"-\"*30)\n",
        "\n",
        "# para el test, como en MNISTSubmitDataset se envia solo images e indicies, lo haremos sin el \".iloc[:, 1:]\" porque en el test no tenemos que excluir la primera columna que son los labels porque ya consta de solo pixeles y podemos tomarlo tal como está, tampoco necesitamos los \".iloc[:, 0]\" porque no tenemos etiquetas, solo necesitamos los índices\n",
        "test_dataset = MNISTSubmitDataset(test_df.values.astype(np.uint8), test_df.index.values)\n",
        "print(len(test_dataset))\n",
        "print(test_dataset[0])\n",
        "axarr[2].imshow(test_dataset[0][\"image\"].squeeze(), cmap=\"gray\") # estamos usando ya la columna de la tercera posición \"axarr[2]\" de nuestro gráfico no como arriba que se usa la segunda posición con \"axarr[1]\"\n",
        "axarr[2].set_title(\"Test Image\")\n",
        "print(\"-\"*30)\n",
        "\n",
        "plt.show() # veremos que se ejecutó exitosamente y lo que nos muestra es la longitud de nuestro dataset y eso es lo que devuelve si especificamos un índice"
      ],
      "metadata": {
        "colab": {
          "base_uri": "https://localhost:8080/",
          "height": 1000
        },
        "id": "FTyi6qNHI29A",
        "outputId": "9e8d4240-10a5-4d52-be3c-1d5d33d8e0f3"
      },
      "execution_count": 11,
      "outputs": [
        {
          "output_type": "stream",
          "name": "stdout",
          "text": [
            "37800\n",
            "{'image': tensor([[[-1.0000, -1.0000, -1.0000, -1.0000, -1.0000, -1.0000, -1.0000,\n",
            "          -1.0000, -1.0000, -1.0000, -1.0000, -1.0000, -1.0000, -1.0000,\n",
            "          -1.0000, -1.0000, -1.0000, -1.0000, -1.0000, -1.0000, -1.0000,\n",
            "          -1.0000, -1.0000, -1.0000, -1.0000, -1.0000, -1.0000, -1.0000],\n",
            "         [-1.0000, -1.0000, -1.0000, -1.0000, -1.0000, -1.0000, -1.0000,\n",
            "          -1.0000, -1.0000, -1.0000, -1.0000, -1.0000, -1.0000, -1.0000,\n",
            "          -1.0000, -1.0000, -1.0000, -1.0000, -1.0000, -1.0000, -1.0000,\n",
            "          -1.0000, -1.0000, -1.0000, -1.0000, -1.0000, -1.0000, -1.0000],\n",
            "         [-1.0000, -1.0000, -1.0000, -1.0000, -1.0000, -1.0000, -1.0000,\n",
            "          -1.0000, -1.0000, -1.0000, -1.0000, -1.0000, -1.0000, -1.0000,\n",
            "          -1.0000, -1.0000, -1.0000, -1.0000, -1.0000, -1.0000, -1.0000,\n",
            "          -1.0000, -1.0000, -1.0000, -1.0000, -1.0000, -1.0000, -1.0000],\n",
            "         [-1.0000, -1.0000, -1.0000, -1.0000, -1.0000, -1.0000, -1.0000,\n",
            "          -1.0000, -1.0000, -1.0000, -1.0000, -1.0000, -1.0000, -1.0000,\n",
            "          -1.0000, -1.0000, -1.0000, -1.0000, -1.0000, -1.0000, -1.0000,\n",
            "          -1.0000, -1.0000, -1.0000, -1.0000, -1.0000, -1.0000, -1.0000],\n",
            "         [-1.0000, -1.0000, -1.0000, -1.0000, -1.0000, -1.0000, -1.0000,\n",
            "          -1.0000, -1.0000, -1.0000, -1.0000, -1.0000, -1.0000, -1.0000,\n",
            "          -1.0000, -1.0000, -1.0000, -1.0000, -1.0000, -1.0000, -1.0000,\n",
            "          -1.0000, -1.0000, -1.0000, -1.0000, -1.0000, -1.0000, -1.0000],\n",
            "         [-1.0000, -1.0000, -1.0000, -1.0000, -1.0000, -1.0000, -1.0000,\n",
            "          -1.0000, -1.0000, -1.0000, -1.0000, -1.0000, -1.0000, -1.0000,\n",
            "          -1.0000, -1.0000, -0.9373, -0.3804,  0.2314,  0.9922, -1.0000,\n",
            "          -1.0000, -1.0000, -1.0000, -1.0000, -1.0000, -1.0000, -1.0000],\n",
            "         [-1.0000, -1.0000, -1.0000, -1.0000, -1.0000, -1.0000, -1.0000,\n",
            "          -1.0000, -1.0000, -1.0000, -1.0000, -1.0000, -1.0000, -1.0000,\n",
            "          -1.0000, -0.0902,  0.5843,  0.9843,  0.9843,  0.9843,  0.3020,\n",
            "          -1.0000, -1.0000, -1.0000, -1.0000, -1.0000, -1.0000, -1.0000],\n",
            "         [-1.0000, -1.0000, -1.0000, -1.0000, -1.0000, -1.0000, -1.0000,\n",
            "          -1.0000, -1.0000, -1.0000, -1.0000, -1.0000, -1.0000, -1.0000,\n",
            "          -0.1137,  0.9608,  0.9922,  0.9843,  0.9843,  0.9451,  0.9843,\n",
            "          -0.7176, -1.0000, -1.0000, -1.0000, -1.0000, -1.0000, -1.0000],\n",
            "         [-1.0000, -1.0000, -1.0000, -1.0000, -1.0000, -1.0000, -1.0000,\n",
            "          -1.0000, -1.0000, -1.0000, -1.0000, -1.0000, -1.0000, -0.6784,\n",
            "           0.7725,  0.9843,  0.9137, -0.1294, -0.3412, -0.5059,  0.8902,\n",
            "          -0.5843, -1.0000, -1.0000, -1.0000, -1.0000, -1.0000, -1.0000],\n",
            "         [-1.0000, -1.0000, -1.0000, -1.0000, -1.0000, -1.0000, -1.0000,\n",
            "          -1.0000, -1.0000, -1.0000, -1.0000, -1.0000,  0.3412,  0.9843,\n",
            "           0.6392, -0.7255, -1.0000, -1.0000, -1.0000, -0.7176, -1.0000,\n",
            "          -1.0000, -1.0000, -1.0000, -1.0000, -1.0000, -1.0000, -1.0000],\n",
            "         [-1.0000, -1.0000, -1.0000, -1.0000, -1.0000, -1.0000, -1.0000,\n",
            "          -1.0000, -1.0000, -1.0000, -1.0000, -1.0000,  0.8353,  0.5608,\n",
            "          -0.8588, -1.0000, -1.0000, -1.0000, -1.0000, -1.0000, -1.0000,\n",
            "          -1.0000, -1.0000, -1.0000, -1.0000, -1.0000, -1.0000, -1.0000],\n",
            "         [-1.0000, -1.0000, -1.0000, -1.0000, -1.0000, -1.0000, -1.0000,\n",
            "          -1.0000, -1.0000, -1.0000, -1.0000, -0.4902,  0.8902, -0.5608,\n",
            "          -1.0000, -1.0000, -1.0000, -0.9373,  0.2235,  0.3176,  0.3176,\n",
            "          -1.0000, -1.0000, -1.0000, -1.0000, -1.0000, -1.0000, -1.0000],\n",
            "         [-1.0000, -1.0000, -1.0000, -1.0000, -1.0000, -1.0000, -1.0000,\n",
            "          -1.0000, -1.0000, -1.0000, -1.0000,  0.4275,  0.8196, -0.8824,\n",
            "          -0.8275, -0.8275, -0.5529,  0.7647,  0.8902,  0.6314, -0.2392,\n",
            "          -1.0000, -1.0000, -1.0000, -1.0000, -1.0000, -1.0000, -1.0000],\n",
            "         [-1.0000, -1.0000, -1.0000, -1.0000, -1.0000, -1.0000, -1.0000,\n",
            "          -1.0000, -1.0000, -1.0000, -0.9137,  0.6157,  0.8667,  0.4980,\n",
            "           0.9843,  1.0000,  0.9843,  0.0510, -0.7176, -0.2863, -1.0000,\n",
            "          -1.0000, -1.0000, -1.0000, -1.0000, -1.0000, -1.0000, -1.0000],\n",
            "         [-1.0000, -1.0000, -1.0000, -1.0000, -1.0000, -1.0000, -1.0000,\n",
            "          -1.0000, -1.0000, -1.0000, -0.9451,  0.5765,  0.9843,  0.9843,\n",
            "           0.9843,  0.5059, -0.1843, -0.9059, -1.0000, -1.0000, -1.0000,\n",
            "          -1.0000, -1.0000, -1.0000, -1.0000, -1.0000, -1.0000, -1.0000],\n",
            "         [-1.0000, -1.0000, -1.0000, -1.0000, -1.0000, -1.0000, -1.0000,\n",
            "          -1.0000, -1.0000, -1.0000, -0.6627,  0.9922,  0.9922,  0.9922,\n",
            "           0.0196, -1.0000, -1.0000, -1.0000, -1.0000, -1.0000, -1.0000,\n",
            "          -1.0000, -1.0000, -1.0000, -1.0000, -1.0000, -1.0000, -1.0000],\n",
            "         [-1.0000, -1.0000, -1.0000, -1.0000, -1.0000, -1.0000, -1.0000,\n",
            "          -1.0000, -1.0000, -0.7176,  0.2392,  0.9843,  0.9843,  0.2627,\n",
            "          -0.9137, -1.0000, -1.0000, -1.0000, -1.0000, -1.0000, -1.0000,\n",
            "          -1.0000, -1.0000, -1.0000, -1.0000, -1.0000, -1.0000, -1.0000],\n",
            "         [-1.0000, -1.0000, -1.0000, -1.0000, -1.0000, -1.0000, -1.0000,\n",
            "          -1.0000, -1.0000, -0.0902,  0.9686, -0.0745,  0.7020,  0.9451,\n",
            "          -0.2784, -1.0000, -1.0000, -1.0000, -1.0000, -1.0000, -1.0000,\n",
            "          -1.0000, -1.0000, -1.0000, -1.0000, -1.0000, -1.0000, -1.0000],\n",
            "         [-1.0000, -1.0000, -1.0000, -1.0000, -1.0000, -1.0000, -1.0000,\n",
            "          -1.0000, -1.0000,  0.6627,  0.4510, -1.0000, -0.8745,  0.8196,\n",
            "           0.3647, -1.0000, -1.0000, -1.0000, -1.0000, -1.0000, -1.0000,\n",
            "          -1.0000, -1.0000, -1.0000, -1.0000, -1.0000, -1.0000, -1.0000],\n",
            "         [-1.0000, -1.0000, -1.0000, -1.0000, -1.0000, -1.0000, -1.0000,\n",
            "          -0.4902,  0.6627, -0.1608, -1.0000, -1.0000, -0.0118,  0.9843,\n",
            "          -1.0000, -1.0000, -1.0000, -1.0000, -1.0000, -1.0000, -1.0000,\n",
            "          -1.0000, -1.0000, -1.0000, -1.0000, -1.0000, -1.0000, -1.0000],\n",
            "         [-1.0000, -1.0000, -1.0000, -1.0000, -1.0000, -1.0000, -1.0000,\n",
            "          -0.6627,  0.9922, -0.8588, -1.0000, -1.0000, -1.0000,  0.6706,\n",
            "           0.3176, -1.0000, -1.0000, -1.0000, -1.0000, -1.0000, -1.0000,\n",
            "          -1.0000, -1.0000, -1.0000, -1.0000, -1.0000, -1.0000, -1.0000],\n",
            "         [-1.0000, -1.0000, -1.0000, -1.0000, -1.0000, -1.0000, -1.0000,\n",
            "          -1.0000,  0.8824,  0.1059, -1.0000, -1.0000, -1.0000,  0.0353,\n",
            "           0.6627, -1.0000, -1.0000, -1.0000, -1.0000, -1.0000, -1.0000,\n",
            "          -1.0000, -1.0000, -1.0000, -1.0000, -1.0000, -1.0000, -1.0000],\n",
            "         [-1.0000, -1.0000, -1.0000, -1.0000, -1.0000, -1.0000, -1.0000,\n",
            "          -1.0000,  0.2471,  0.9686, -0.0667, -0.8431, -0.8824, -0.0667,\n",
            "           0.8039, -0.7882, -1.0000, -1.0000, -1.0000, -1.0000, -1.0000,\n",
            "          -1.0000, -1.0000, -1.0000, -1.0000, -1.0000, -1.0000, -1.0000],\n",
            "         [-1.0000, -1.0000, -1.0000, -1.0000, -1.0000, -1.0000, -1.0000,\n",
            "          -1.0000, -0.3725,  0.7882,  0.9843,  0.9294,  0.7725,  0.9843,\n",
            "           0.6627, -1.0000, -1.0000, -1.0000, -1.0000, -1.0000, -1.0000,\n",
            "          -1.0000, -1.0000, -1.0000, -1.0000, -1.0000, -1.0000, -1.0000],\n",
            "         [-1.0000, -1.0000, -1.0000, -1.0000, -1.0000, -1.0000, -1.0000,\n",
            "          -1.0000, -1.0000, -0.6627,  0.1529,  0.2235,  0.9843,  0.2941,\n",
            "          -0.3725, -1.0000, -1.0000, -1.0000, -1.0000, -1.0000, -1.0000,\n",
            "          -1.0000, -1.0000, -1.0000, -1.0000, -1.0000, -1.0000, -1.0000],\n",
            "         [-1.0000, -1.0000, -1.0000, -1.0000, -1.0000, -1.0000, -1.0000,\n",
            "          -1.0000, -1.0000, -1.0000, -1.0000, -1.0000, -1.0000, -1.0000,\n",
            "          -1.0000, -1.0000, -1.0000, -1.0000, -1.0000, -1.0000, -1.0000,\n",
            "          -1.0000, -1.0000, -1.0000, -1.0000, -1.0000, -1.0000, -1.0000],\n",
            "         [-1.0000, -1.0000, -1.0000, -1.0000, -1.0000, -1.0000, -1.0000,\n",
            "          -1.0000, -1.0000, -1.0000, -1.0000, -1.0000, -1.0000, -1.0000,\n",
            "          -1.0000, -1.0000, -1.0000, -1.0000, -1.0000, -1.0000, -1.0000,\n",
            "          -1.0000, -1.0000, -1.0000, -1.0000, -1.0000, -1.0000, -1.0000],\n",
            "         [-1.0000, -1.0000, -1.0000, -1.0000, -1.0000, -1.0000, -1.0000,\n",
            "          -1.0000, -1.0000, -1.0000, -1.0000, -1.0000, -1.0000, -1.0000,\n",
            "          -1.0000, -1.0000, -1.0000, -1.0000, -1.0000, -1.0000, -1.0000,\n",
            "          -1.0000, -1.0000, -1.0000, -1.0000, -1.0000, -1.0000, -1.0000]]]), 'label': 8, 'index': 22460}\n",
            "------------------------------\n",
            "4200\n",
            "{'image': tensor([[[-1.0000, -1.0000, -1.0000, -1.0000, -1.0000, -1.0000, -1.0000,\n",
            "          -1.0000, -1.0000, -1.0000, -1.0000, -1.0000, -1.0000, -1.0000,\n",
            "          -1.0000, -1.0000, -1.0000, -1.0000, -1.0000, -1.0000, -1.0000,\n",
            "          -1.0000, -1.0000, -1.0000, -1.0000, -1.0000, -1.0000, -1.0000],\n",
            "         [-1.0000, -1.0000, -1.0000, -1.0000, -1.0000, -1.0000, -1.0000,\n",
            "          -1.0000, -1.0000, -1.0000, -1.0000, -1.0000, -1.0000, -1.0000,\n",
            "          -1.0000, -1.0000, -1.0000, -1.0000, -1.0000, -1.0000, -1.0000,\n",
            "          -1.0000, -1.0000, -1.0000, -1.0000, -1.0000, -1.0000, -1.0000],\n",
            "         [-1.0000, -1.0000, -1.0000, -1.0000, -1.0000, -1.0000, -1.0000,\n",
            "          -1.0000, -1.0000, -1.0000, -1.0000, -1.0000, -1.0000, -1.0000,\n",
            "          -1.0000, -1.0000, -1.0000, -1.0000, -1.0000, -1.0000, -1.0000,\n",
            "          -1.0000, -1.0000, -1.0000, -1.0000, -1.0000, -1.0000, -1.0000],\n",
            "         [-1.0000, -1.0000, -1.0000, -1.0000, -1.0000, -1.0000, -1.0000,\n",
            "          -1.0000, -1.0000, -1.0000, -1.0000, -1.0000, -1.0000, -1.0000,\n",
            "          -1.0000, -1.0000, -1.0000, -1.0000, -1.0000, -1.0000, -1.0000,\n",
            "          -1.0000, -1.0000, -1.0000, -1.0000, -1.0000, -1.0000, -1.0000],\n",
            "         [-1.0000, -1.0000, -1.0000, -1.0000, -1.0000, -1.0000, -1.0000,\n",
            "          -1.0000, -1.0000, -1.0000, -1.0000, -1.0000, -1.0000, -0.9765,\n",
            "          -0.5137,  0.4510,  1.0000,  0.7961, -0.7804, -1.0000, -1.0000,\n",
            "          -1.0000, -1.0000, -1.0000, -1.0000, -1.0000, -1.0000, -1.0000],\n",
            "         [-1.0000, -1.0000, -1.0000, -1.0000, -1.0000, -1.0000, -1.0000,\n",
            "          -1.0000, -1.0000, -1.0000, -1.0000, -1.0000, -1.0000,  0.3569,\n",
            "           0.9843,  0.9843,  0.9843,  0.9843, -0.3647, -1.0000, -1.0000,\n",
            "          -1.0000, -1.0000, -1.0000, -1.0000, -1.0000, -1.0000, -1.0000],\n",
            "         [-1.0000, -1.0000, -1.0000, -1.0000, -1.0000, -1.0000, -1.0000,\n",
            "          -1.0000, -1.0000, -1.0000, -1.0000, -0.9843, -0.0118,  0.9686,\n",
            "           0.3961, -0.5686, -0.6000,  0.9843,  0.2235, -1.0000, -1.0000,\n",
            "          -1.0000, -1.0000, -1.0000, -1.0000, -1.0000, -1.0000, -1.0000],\n",
            "         [-1.0000, -1.0000, -1.0000, -1.0000, -1.0000, -1.0000, -1.0000,\n",
            "          -1.0000, -1.0000, -1.0000, -1.0000, -0.4667,  0.9843,  0.2078,\n",
            "          -1.0000, -1.0000, -0.8980,  0.7020,  0.2235, -1.0000, -1.0000,\n",
            "          -1.0000, -1.0000, -1.0000, -1.0000, -1.0000, -1.0000, -1.0000],\n",
            "         [-1.0000, -1.0000, -1.0000, -1.0000, -1.0000, -1.0000, -1.0000,\n",
            "          -1.0000, -1.0000, -1.0000, -0.9294,  0.7961,  0.4745, -0.9529,\n",
            "          -1.0000, -1.0000, -0.8275,  0.9843,  0.2235, -1.0000, -1.0000,\n",
            "          -1.0000, -1.0000, -1.0000, -1.0000, -1.0000, -1.0000, -1.0000],\n",
            "         [-1.0000, -1.0000, -1.0000, -1.0000, -1.0000, -1.0000, -1.0000,\n",
            "          -1.0000, -1.0000, -1.0000, -0.9137,  0.9843,  0.3098, -1.0000,\n",
            "          -1.0000, -1.0000, -0.8275,  0.9843,  0.2549, -0.9137, -0.9294,\n",
            "          -1.0000, -1.0000, -1.0000, -1.0000, -1.0000, -1.0000, -1.0000],\n",
            "         [-1.0000, -1.0000, -1.0000, -1.0000, -1.0000, -1.0000, -1.0000,\n",
            "          -1.0000, -1.0000, -1.0000, -0.9294,  0.8431,  0.3098, -1.0000,\n",
            "          -1.0000, -1.0000, -0.8275,  0.9843,  0.9843,  0.9843,  0.4745,\n",
            "          -1.0000, -1.0000, -1.0000, -1.0000, -1.0000, -1.0000, -1.0000],\n",
            "         [-1.0000, -1.0000, -1.0000, -1.0000, -1.0000, -1.0000, -1.0000,\n",
            "          -1.0000, -1.0000, -1.0000, -1.0000,  0.2314,  0.8275, -0.8745,\n",
            "          -1.0000, -1.0000, -0.5373,  0.9843,  0.9843,  0.9137, -0.3882,\n",
            "          -1.0000, -1.0000, -1.0000, -1.0000, -1.0000, -1.0000, -1.0000],\n",
            "         [-1.0000, -1.0000, -1.0000, -1.0000, -1.0000, -1.0000, -1.0000,\n",
            "          -1.0000, -1.0000, -1.0000, -1.0000, -0.1765,  0.9843, -0.8353,\n",
            "          -1.0000, -0.9529,  0.4431,  0.9843,  0.9373, -0.4196, -1.0000,\n",
            "          -1.0000, -1.0000, -1.0000, -1.0000, -1.0000, -1.0000, -1.0000],\n",
            "         [-1.0000, -1.0000, -1.0000, -1.0000, -1.0000, -1.0000, -1.0000,\n",
            "          -1.0000, -1.0000, -1.0000, -1.0000, -0.6157,  0.9843, -0.1059,\n",
            "          -1.0000, -0.0902,  0.9843,  0.9843, -0.3176, -1.0000, -1.0000,\n",
            "          -1.0000, -1.0000, -1.0000, -1.0000, -1.0000, -1.0000, -1.0000],\n",
            "         [-1.0000, -1.0000, -1.0000, -1.0000, -1.0000, -1.0000, -1.0000,\n",
            "          -1.0000, -1.0000, -1.0000, -1.0000, -0.9137,  0.3176,  0.9608,\n",
            "           0.5686,  0.8980,  0.9294,  0.0667, -0.9216, -1.0000, -1.0000,\n",
            "          -1.0000, -1.0000, -1.0000, -1.0000, -1.0000, -1.0000, -1.0000],\n",
            "         [-1.0000, -1.0000, -1.0000, -1.0000, -1.0000, -1.0000, -1.0000,\n",
            "          -1.0000, -1.0000, -1.0000, -1.0000, -1.0000, -0.3176,  0.9843,\n",
            "           0.9843,  0.9843,  0.7412, -1.0000, -1.0000, -1.0000, -1.0000,\n",
            "          -1.0000, -1.0000, -1.0000, -1.0000, -1.0000, -1.0000, -1.0000],\n",
            "         [-1.0000, -1.0000, -1.0000, -1.0000, -1.0000, -1.0000, -1.0000,\n",
            "          -1.0000, -1.0000, -1.0000, -1.0000, -0.7412,  0.5451,  0.9843,\n",
            "           0.9843,  0.9843, -0.2235, -1.0000, -1.0000, -1.0000, -1.0000,\n",
            "          -1.0000, -1.0000, -1.0000, -1.0000, -1.0000, -1.0000, -1.0000],\n",
            "         [-1.0000, -1.0000, -1.0000, -1.0000, -1.0000, -1.0000, -1.0000,\n",
            "          -1.0000, -1.0000, -1.0000, -0.6392,  0.3647,  0.9843,  0.9843,\n",
            "           0.9843,  0.4039, -0.9765, -1.0000, -1.0000, -1.0000, -1.0000,\n",
            "          -1.0000, -1.0000, -1.0000, -1.0000, -1.0000, -1.0000, -1.0000],\n",
            "         [-1.0000, -1.0000, -1.0000, -1.0000, -1.0000, -1.0000, -1.0000,\n",
            "          -1.0000, -1.0000, -0.6549,  0.8588,  0.9843,  0.8275,  0.0039,\n",
            "           0.6078,  0.2627, -1.0000, -1.0000, -1.0000, -1.0000, -1.0000,\n",
            "          -1.0000, -1.0000, -1.0000, -1.0000, -1.0000, -1.0000, -1.0000],\n",
            "         [-1.0000, -1.0000, -1.0000, -1.0000, -1.0000, -1.0000, -1.0000,\n",
            "          -1.0000, -1.0000,  0.2157,  0.9843,  0.7255, -0.8510, -1.0000,\n",
            "           0.2706,  0.4510, -0.9686, -1.0000, -1.0000, -1.0000, -1.0000,\n",
            "          -1.0000, -1.0000, -1.0000, -1.0000, -1.0000, -1.0000, -1.0000],\n",
            "         [-1.0000, -1.0000, -1.0000, -1.0000, -1.0000, -1.0000, -1.0000,\n",
            "          -1.0000, -1.0000,  0.4824,  0.9843,  0.7569, -0.4667, -1.0000,\n",
            "          -0.4275,  0.9843, -0.5294, -1.0000, -1.0000, -1.0000, -1.0000,\n",
            "          -1.0000, -1.0000, -1.0000, -1.0000, -1.0000, -1.0000, -1.0000],\n",
            "         [-1.0000, -1.0000, -1.0000, -1.0000, -1.0000, -1.0000, -1.0000,\n",
            "          -1.0000, -1.0000,  0.2941,  0.8510,  0.9843,  0.9765,  0.8980,\n",
            "           0.6549,  0.9843, -0.0275, -1.0000, -1.0000, -1.0000, -1.0000,\n",
            "          -1.0000, -1.0000, -1.0000, -1.0000, -1.0000, -1.0000, -1.0000],\n",
            "         [-1.0000, -1.0000, -1.0000, -1.0000, -1.0000, -1.0000, -1.0000,\n",
            "          -1.0000, -1.0000, -1.0000, -0.7176,  0.1137,  0.6235,  0.9843,\n",
            "           0.9843,  0.9843, -0.0275, -1.0000, -1.0000, -1.0000, -1.0000,\n",
            "          -1.0000, -1.0000, -1.0000, -1.0000, -1.0000, -1.0000, -1.0000],\n",
            "         [-1.0000, -1.0000, -1.0000, -1.0000, -1.0000, -1.0000, -1.0000,\n",
            "          -1.0000, -1.0000, -1.0000, -1.0000, -1.0000, -0.8980,  0.0667,\n",
            "           0.6784,  0.3176, -0.8039, -1.0000, -1.0000, -1.0000, -1.0000,\n",
            "          -1.0000, -1.0000, -1.0000, -1.0000, -1.0000, -1.0000, -1.0000],\n",
            "         [-1.0000, -1.0000, -1.0000, -1.0000, -1.0000, -1.0000, -1.0000,\n",
            "          -1.0000, -1.0000, -1.0000, -1.0000, -1.0000, -1.0000, -1.0000,\n",
            "          -1.0000, -1.0000, -1.0000, -1.0000, -1.0000, -1.0000, -1.0000,\n",
            "          -1.0000, -1.0000, -1.0000, -1.0000, -1.0000, -1.0000, -1.0000],\n",
            "         [-1.0000, -1.0000, -1.0000, -1.0000, -1.0000, -1.0000, -1.0000,\n",
            "          -1.0000, -1.0000, -1.0000, -1.0000, -1.0000, -1.0000, -1.0000,\n",
            "          -1.0000, -1.0000, -1.0000, -1.0000, -1.0000, -1.0000, -1.0000,\n",
            "          -1.0000, -1.0000, -1.0000, -1.0000, -1.0000, -1.0000, -1.0000],\n",
            "         [-1.0000, -1.0000, -1.0000, -1.0000, -1.0000, -1.0000, -1.0000,\n",
            "          -1.0000, -1.0000, -1.0000, -1.0000, -1.0000, -1.0000, -1.0000,\n",
            "          -1.0000, -1.0000, -1.0000, -1.0000, -1.0000, -1.0000, -1.0000,\n",
            "          -1.0000, -1.0000, -1.0000, -1.0000, -1.0000, -1.0000, -1.0000],\n",
            "         [-1.0000, -1.0000, -1.0000, -1.0000, -1.0000, -1.0000, -1.0000,\n",
            "          -1.0000, -1.0000, -1.0000, -1.0000, -1.0000, -1.0000, -1.0000,\n",
            "          -1.0000, -1.0000, -1.0000, -1.0000, -1.0000, -1.0000, -1.0000,\n",
            "          -1.0000, -1.0000, -1.0000, -1.0000, -1.0000, -1.0000, -1.0000]]]), 'label': 8, 'index': 5457}\n",
            "------------------------------\n",
            "28000\n",
            "{'image': tensor([[[-1.0000, -1.0000, -1.0000, -1.0000, -1.0000, -1.0000, -1.0000,\n",
            "          -1.0000, -1.0000, -1.0000, -1.0000, -1.0000, -1.0000, -1.0000,\n",
            "          -1.0000, -1.0000, -1.0000, -1.0000, -1.0000, -1.0000, -1.0000,\n",
            "          -1.0000, -1.0000, -1.0000, -1.0000, -1.0000, -1.0000, -1.0000],\n",
            "         [-1.0000, -1.0000, -1.0000, -1.0000, -1.0000, -1.0000, -1.0000,\n",
            "          -1.0000, -1.0000, -1.0000, -1.0000, -1.0000, -1.0000, -1.0000,\n",
            "          -1.0000, -1.0000, -1.0000, -1.0000, -1.0000, -1.0000, -1.0000,\n",
            "          -1.0000, -1.0000, -1.0000, -1.0000, -1.0000, -1.0000, -1.0000],\n",
            "         [-1.0000, -1.0000, -1.0000, -1.0000, -1.0000, -1.0000, -1.0000,\n",
            "          -1.0000, -1.0000, -1.0000, -1.0000, -1.0000, -1.0000, -1.0000,\n",
            "          -1.0000, -1.0000, -1.0000, -1.0000, -1.0000, -1.0000, -1.0000,\n",
            "          -1.0000, -1.0000, -1.0000, -1.0000, -1.0000, -1.0000, -1.0000],\n",
            "         [-1.0000, -1.0000, -1.0000, -1.0000, -1.0000, -1.0000, -1.0000,\n",
            "          -1.0000, -1.0000, -1.0000, -1.0000, -1.0000, -1.0000, -1.0000,\n",
            "          -1.0000, -1.0000, -1.0000, -1.0000, -1.0000, -1.0000, -1.0000,\n",
            "          -1.0000, -1.0000, -1.0000, -1.0000, -1.0000, -1.0000, -1.0000],\n",
            "         [-1.0000, -1.0000, -1.0000, -1.0000, -1.0000, -1.0000, -1.0000,\n",
            "          -1.0000, -1.0000, -1.0000, -0.9216, -0.8667, -0.8667, -0.8667,\n",
            "          -0.8667, -0.3647,  0.4118,  0.4118, -0.7255, -1.0000, -1.0000,\n",
            "          -1.0000, -1.0000, -1.0000, -1.0000, -1.0000, -1.0000, -1.0000],\n",
            "         [-1.0000, -1.0000, -1.0000, -1.0000, -1.0000, -1.0000, -1.0000,\n",
            "          -1.0000, -1.0000, -1.0000,  0.0902,  0.9843,  0.9843,  0.9843,\n",
            "           0.9843,  0.9843,  0.9843,  0.9843, -0.6235, -1.0000, -1.0000,\n",
            "          -1.0000, -1.0000, -1.0000, -1.0000, -1.0000, -1.0000, -1.0000],\n",
            "         [-1.0000, -1.0000, -1.0000, -1.0000, -1.0000, -1.0000, -1.0000,\n",
            "          -1.0000, -1.0000, -0.5294,  0.7882,  0.9843,  0.9843,  0.9843,\n",
            "           0.9843,  0.9843,  0.9843,  0.9843,  0.6235,  0.5451, -0.6392,\n",
            "          -1.0000, -1.0000, -1.0000, -1.0000, -1.0000, -1.0000, -1.0000],\n",
            "         [-1.0000, -1.0000, -1.0000, -1.0000, -1.0000, -1.0000, -1.0000,\n",
            "          -1.0000, -1.0000,  0.6706,  0.9843,  0.9843,  0.9843,  0.9843,\n",
            "           0.9843,  0.9843,  0.9843,  0.9843,  0.9843,  0.9843,  0.7490,\n",
            "          -0.5922, -1.0000, -1.0000, -1.0000, -1.0000, -1.0000, -1.0000],\n",
            "         [-1.0000, -1.0000, -1.0000, -1.0000, -1.0000, -1.0000, -1.0000,\n",
            "          -1.0000, -1.0000, -0.4824,  0.8118,  0.9843,  0.9843,  0.9843,\n",
            "          -0.1529, -0.6863, -0.6863, -0.0980,  0.9137,  0.9843,  0.9843,\n",
            "           0.0510, -0.9765, -1.0000, -1.0000, -1.0000, -1.0000, -1.0000],\n",
            "         [-1.0000, -1.0000, -1.0000, -1.0000, -1.0000, -1.0000, -1.0000,\n",
            "          -1.0000, -1.0000, -1.0000, -0.5059, -0.1059, -0.1059, -0.1059,\n",
            "          -0.7098, -1.0000, -1.0000, -1.0000,  0.6078,  0.9843,  0.9843,\n",
            "           0.9843, -0.8824, -1.0000, -1.0000, -1.0000, -1.0000, -1.0000],\n",
            "         [-1.0000, -1.0000, -1.0000, -1.0000, -1.0000, -1.0000, -1.0000,\n",
            "          -1.0000, -1.0000, -1.0000, -1.0000, -1.0000, -1.0000, -1.0000,\n",
            "          -1.0000, -1.0000, -1.0000, -1.0000, -0.5529,  0.9843,  0.9843,\n",
            "           0.9843, -0.8824, -1.0000, -1.0000, -1.0000, -1.0000, -1.0000],\n",
            "         [-1.0000, -1.0000, -1.0000, -1.0000, -1.0000, -1.0000, -1.0000,\n",
            "          -1.0000, -1.0000, -1.0000, -1.0000, -1.0000, -1.0000, -1.0000,\n",
            "          -1.0000, -1.0000, -1.0000, -1.0000, -0.6706,  0.9843,  0.9843,\n",
            "           0.9843, -0.8824, -1.0000, -1.0000, -1.0000, -1.0000, -1.0000],\n",
            "         [-1.0000, -1.0000, -1.0000, -1.0000, -1.0000, -1.0000, -1.0000,\n",
            "          -1.0000, -1.0000, -1.0000, -1.0000, -1.0000, -1.0000, -1.0000,\n",
            "          -1.0000, -1.0000, -1.0000, -1.0000, -0.2549,  0.9843,  0.9843,\n",
            "           0.9843, -0.8824, -1.0000, -1.0000, -1.0000, -1.0000, -1.0000],\n",
            "         [-1.0000, -1.0000, -1.0000, -1.0000, -1.0000, -1.0000, -1.0000,\n",
            "          -1.0000, -1.0000, -1.0000, -1.0000, -1.0000, -1.0000, -1.0000,\n",
            "          -1.0000, -1.0000, -1.0000, -1.0000,  0.6078,  0.9843,  0.9843,\n",
            "           0.9843, -0.8824, -1.0000, -1.0000, -1.0000, -1.0000, -1.0000],\n",
            "         [-1.0000, -1.0000, -1.0000, -1.0000, -1.0000, -1.0000, -1.0000,\n",
            "          -1.0000, -1.0000, -1.0000, -1.0000, -1.0000, -0.5216, -0.2235,\n",
            "          -0.2471, -1.0000, -1.0000, -0.6471,  0.7569,  0.9843,  0.9843,\n",
            "           0.5294, -0.9216, -1.0000, -1.0000, -1.0000, -1.0000, -1.0000],\n",
            "         [-1.0000, -1.0000, -1.0000, -1.0000, -1.0000, -1.0000, -0.9137,\n",
            "          -0.8039, -0.1765, -0.3490,  0.4824,  0.4824,  0.7882,  0.9843,\n",
            "           0.9686,  0.4824,  0.4824,  0.7098,  0.9843,  0.9843,  0.6471,\n",
            "          -0.7882, -1.0000, -1.0000, -1.0000, -1.0000, -1.0000, -1.0000],\n",
            "         [-1.0000, -1.0000, -1.0000, -1.0000, -0.6706, -0.0902,  0.3569,\n",
            "           0.9843,  0.9843,  0.9843,  0.9843,  0.9843,  0.9843,  0.9843,\n",
            "           0.9843,  0.9843,  0.9843,  0.9843,  0.9843,  0.9843,  0.7333,\n",
            "          -0.0902, -0.9451, -1.0000, -1.0000, -1.0000, -1.0000, -1.0000],\n",
            "         [-1.0000, -1.0000, -1.0000, -1.0000, -0.0745,  0.9843,  0.9843,\n",
            "           0.9843,  0.9843,  0.9216,  0.6627,  0.7412,  0.9843,  0.9843,\n",
            "           0.9843,  0.9843,  0.9843,  0.9843,  0.9843,  0.9843,  0.9843,\n",
            "           0.9843,  0.2549, -0.8824, -1.0000, -1.0000, -1.0000, -1.0000],\n",
            "         [-1.0000, -1.0000, -1.0000, -1.0000,  0.9922,  0.9843,  0.9843,\n",
            "           0.9843,  0.4824, -0.2235, -1.0000, -0.7490,  0.5843,  0.9843,\n",
            "           0.9843,  0.9843,  0.8824, -0.0431, -0.0431,  0.4902,  0.9843,\n",
            "           0.9843,  0.9843,  0.3647, -1.0000, -1.0000, -1.0000, -1.0000],\n",
            "         [-1.0000, -1.0000, -1.0000, -1.0000,  1.0000,  0.9843,  0.9843,\n",
            "           0.9843,  0.8667,  0.7412,  0.7412,  0.7412,  0.8902,  0.9843,\n",
            "           0.9843,  0.8039, -0.4510, -1.0000, -1.0000, -0.8667,  0.3725,\n",
            "           0.7961,  0.9843,  0.9843, -1.0000, -1.0000, -1.0000, -1.0000],\n",
            "         [-1.0000, -1.0000, -1.0000, -1.0000,  0.2392,  0.9843,  0.9843,\n",
            "           0.9843,  0.9843,  0.9843,  0.9843,  0.9843,  0.9843,  0.6078,\n",
            "          -0.1686, -0.4902, -1.0000, -1.0000, -1.0000, -1.0000, -1.0000,\n",
            "          -0.5137,  0.9137,  0.2314, -1.0000, -1.0000, -1.0000, -1.0000],\n",
            "         [-1.0000, -1.0000, -1.0000, -1.0000, -0.9529, -0.7961,  0.4039,\n",
            "           0.4039,  0.4039,  0.4039,  0.4039, -0.7647, -0.8824, -0.9216,\n",
            "          -1.0000, -1.0000, -1.0000, -1.0000, -1.0000, -1.0000, -1.0000,\n",
            "          -1.0000, -0.8902, -0.9529, -1.0000, -1.0000, -1.0000, -1.0000],\n",
            "         [-1.0000, -1.0000, -1.0000, -1.0000, -1.0000, -1.0000, -1.0000,\n",
            "          -1.0000, -1.0000, -1.0000, -1.0000, -1.0000, -1.0000, -1.0000,\n",
            "          -1.0000, -1.0000, -1.0000, -1.0000, -1.0000, -1.0000, -1.0000,\n",
            "          -1.0000, -1.0000, -1.0000, -1.0000, -1.0000, -1.0000, -1.0000],\n",
            "         [-1.0000, -1.0000, -1.0000, -1.0000, -1.0000, -1.0000, -1.0000,\n",
            "          -1.0000, -1.0000, -1.0000, -1.0000, -1.0000, -1.0000, -1.0000,\n",
            "          -1.0000, -1.0000, -1.0000, -1.0000, -1.0000, -1.0000, -1.0000,\n",
            "          -1.0000, -1.0000, -1.0000, -1.0000, -1.0000, -1.0000, -1.0000],\n",
            "         [-1.0000, -1.0000, -1.0000, -1.0000, -1.0000, -1.0000, -1.0000,\n",
            "          -1.0000, -1.0000, -1.0000, -1.0000, -1.0000, -1.0000, -1.0000,\n",
            "          -1.0000, -1.0000, -1.0000, -1.0000, -1.0000, -1.0000, -1.0000,\n",
            "          -1.0000, -1.0000, -1.0000, -1.0000, -1.0000, -1.0000, -1.0000],\n",
            "         [-1.0000, -1.0000, -1.0000, -1.0000, -1.0000, -1.0000, -1.0000,\n",
            "          -1.0000, -1.0000, -1.0000, -1.0000, -1.0000, -1.0000, -1.0000,\n",
            "          -1.0000, -1.0000, -1.0000, -1.0000, -1.0000, -1.0000, -1.0000,\n",
            "          -1.0000, -1.0000, -1.0000, -1.0000, -1.0000, -1.0000, -1.0000],\n",
            "         [-1.0000, -1.0000, -1.0000, -1.0000, -1.0000, -1.0000, -1.0000,\n",
            "          -1.0000, -1.0000, -1.0000, -1.0000, -1.0000, -1.0000, -1.0000,\n",
            "          -1.0000, -1.0000, -1.0000, -1.0000, -1.0000, -1.0000, -1.0000,\n",
            "          -1.0000, -1.0000, -1.0000, -1.0000, -1.0000, -1.0000, -1.0000],\n",
            "         [-1.0000, -1.0000, -1.0000, -1.0000, -1.0000, -1.0000, -1.0000,\n",
            "          -1.0000, -1.0000, -1.0000, -1.0000, -1.0000, -1.0000, -1.0000,\n",
            "          -1.0000, -1.0000, -1.0000, -1.0000, -1.0000, -1.0000, -1.0000,\n",
            "          -1.0000, -1.0000, -1.0000, -1.0000, -1.0000, -1.0000, -1.0000]]]), 'index': 0}\n",
            "------------------------------\n"
          ]
        },
        {
          "output_type": "display_data",
          "data": {
            "text/plain": [
              "<Figure size 640x480 with 0 Axes>"
            ]
          },
          "metadata": {}
        },
        {
          "output_type": "display_data",
          "data": {
            "text/plain": [
              "<Figure size 640x480 with 3 Axes>"
            ],
            "image/png": "[encoded data removed]"
          },
          "metadata": {}
        }
      ]
    },
    {
      "cell_type": "code",
      "source": [
        "# Vamos a definir los cargadores de datos (data loaders). Primero vamos a entrenar el data loader, los usaremos mientras entrenamos para iterar a través de los datos\n",
        "train_dataloader = DataLoader(dataset=train_dataset,\n",
        "                              batch_size=BATCH_SIZE,\n",
        "                              shuffle=True)\n",
        "\n",
        "val_dataloader = DataLoader(dataset=val_dataset,\n",
        "                            batch_size=BATCH_SIZE,\n",
        "                            shuffle=True)\n",
        "\n",
        "test_dataloader = DataLoader(dataset=test_dataset,\n",
        "                             batch_size=BATCH_SIZE,\n",
        "                             shuffle=False) # en el dataset de pruebas no vamos a mezclar las imágenes como en el train_dataloader y val_dataloader"
      ],
      "metadata": {
        "id": "yH85FO2cpQ7-"
      },
      "execution_count": 12,
      "outputs": []
    },
    {
      "cell_type": "code",
      "source": [
        "# Ahora es tiempo de pasar al bucle de entrenamiento (train loop)\n",
        "# primero necesitamos una función de pérdida y usaremos \"CrossEntropyLoss()\"\n",
        "criterion = nn.CrossEntropyLoss()\n",
        "# también necesitamos un optimizador y si seguimos el paper usaron el optimizador Adam, entonces en este ejercicio también lo usaremos\n",
        "optimizer = optim.Adam(model.parameters(), betas=ADAM_BETAS, lr=LEARNING_RATE, weight_decay=ADAM_WEIGHT_DECAY)\n",
        "\n",
        "# podemos estimar el tiempo de entrenamiento\n",
        "start = timeit.default_timer()\n",
        "\n",
        "# empezaremos las iteraciones y también le pasaremos dos parámetros más \"position=0, leave=True\" y lo que hará es que le pide a \"tqdm\" imprimir una nueva línea como barra de progreso cada vez que hacemos una nueva iteración, entonces en lugar de eso va a permanecer como una sola barra y simplemente se cargará\n",
        "for epoch in tqdm(range(EPOCHS), position=0, leave=True):\n",
        "    model.train() # llamar al modelo de entrenamiento\n",
        "\n",
        "    # necesitaremos etiquetas de entrenamiento y predicciones, entonces se almacenarán esas etiquetas y predicciones\n",
        "    train_labels = []\n",
        "    train_preds = []\n",
        "\n",
        "    # la pérdida de ejecución comenzará en 0\n",
        "    train_running_loss = 0\n",
        "\n",
        "    # iteraremos a través de cada data loader\n",
        "    for idx, img_label in enumerate(tqdm(train_dataloader, position=0, leave=True)):\n",
        "        img = img_label[\"image\"].float().to(device) # de los objetos que hemos retornado como \"return {\"image\": image, \"label\": label, \"index\": index}\" para colocarla luego en el dispositivo\n",
        "        label = img_label[\"label\"].type(torch.uint8).to(device) # de los objetos que hemos retornado como \"return {\"image\": image, \"label\": label, \"index\": index}\" para colocarla luego en el dispositivo\n",
        "        y_pred = model(img) # para las predicciones lo haremos como si tomáramos el modelo y le pasamos la imagen como se hizo por ejemplo en los \"print(model(x).shape)\" en la parte de \"model(x)\"\n",
        "        y_pred_label = torch.argmax(y_pred, dim=1) # obtener la etiqueta prevista/predicha que vamos a hacer. Entonces lo que hace es como se hizo después de ejecutar el modelo con los datos dando como resultado el \"torch.Size([512, 10])\" donde el 512 es el tamaño de batch y el 10 es el número de clases y contiene la distribución de probabilidad, entonces esa distribución de probabilidad tiene el número más alto asignado al label predicho por lo que se desea tomar la columna con el número más alto de devolverla y eso será nuestra predicción y eso lo hacemos con \"torch.argmax(y_pred, dim=1)\" dándole una dimensión de 1 que es el \"dim=1\". Es decir, es como que digamos que 512 imágenes vinieron en el \"y_pred\" y tendrán 10 columnas donde cada una será para 10 clases y tenemos que obtener la probabilidad asignada más alta\n",
        "\n",
        "        # ahora las agregaremos a las train labels y como las extenderemos entonces usaremos la CPU cuando las almacenemos porque si las almacena como CPU en la GPU entonces se agotará la memoria y con esto solo se usará la GPU para almacenar lo necesario entonces por eso es que se almacena en la CPU\n",
        "        train_labels.extend(label.cpu().detach())\n",
        "        # almacenaremos las predicciones y haremos el mismo procedimiento de arriba\n",
        "        train_preds.extend(y_pred_label.cpu().detach())\n",
        "\n",
        "        # actualizaremos la pérdida usando la función de pérdida\n",
        "        loss = criterion(y_pred, label)\n",
        "\n",
        "        # ahora es el momento de asegurarnos de que se esté aprendiendo y para eso lo que tenemos que hacer es la optimización. Estas tres líneas de código garantiza que se produzca el aprendizaje\n",
        "        optimizer.zero_grad()\n",
        "        loss.backward()\n",
        "        optimizer.step()\n",
        "\n",
        "        # después de lo anterior necesitamos actualizar nuestra pérdida para que la pérdida en funcionamiento del entrenamiento sea igual a la pérdida del elemento. Entonces se va actualizando en cada iteración del data loader de entrenamiento. Este train_running_loss almacena la pérdida de todas las partes y simplemente las suma y las almacena\n",
        "        train_running_loss += loss.item()\n",
        "    # aquí vamos a actualizar el val_loss para toda la época y por eso hacemos que el train_loss sea igual a la pérdida de funcionamiento (train_running_loss) dividida por el índice + 1. Este train_loss lo vamos almacenando simplemente como una pérdida por época\n",
        "    train_loss = train_running_loss / (idx + 1) # esto es la pérdida para el entrenamiento\n",
        "\n",
        "    # ahora haremos lo mismo para la parte de la validación, es muy similar a lo del entrenamieto. Primero llevamos el modelo al modo de evaluación\n",
        "    model.eval()\n",
        "    val_labels = [] # etiquetas de validación que almacenarán los datos de las etiquetas de validación\n",
        "    val_preds = [] # predicciones de validación que almacenarán los datos de las predicciones de validación\n",
        "    val_running_loss = 0 # pérdida de ejecución de validación que almacenará la pérdida de ejecución para su validación iniciará con 0\n",
        "\n",
        "    # con \"torch.no_grad()\" se asegura de que no se produzca ningún aprendizaje aquí por lo que solo estamos tratando de obtener el puntaje de validación con el modelo de entrenamiento y por eso no queremos que ocurra ningún aprendizaje\n",
        "    with torch.no_grad():\n",
        "        for idx, img_label in enumerate(tqdm(val_dataloader, position=0, leave=True)):\n",
        "            img = img_label[\"image\"].float().to(device)\n",
        "            label = img_label[\"label\"].type(torch.uint8).to(device)\n",
        "            y_pred = model(img)\n",
        "            y_pred_label = torch.argmax(y_pred, dim=1)\n",
        "\n",
        "            val_labels.extend(label.cpu().detach())\n",
        "            val_preds.extend(y_pred_label.cpu().detach())\n",
        "\n",
        "            # ahora tomamos la pérdida con la función de pérdida creada anteriormente pasándome la predicción y la etiqueta\n",
        "            loss = criterion(y_pred, label)\n",
        "            # actualizamos el val_running_loss (pérdida de ejecución de la validación) que será igual a la suma de cada pérdida del elemento\n",
        "            val_running_loss += loss.item()\n",
        "    # actualizamos la pérdida de la validación de la época\n",
        "    val_loss = val_running_loss / (idx + 1)\n",
        "\n",
        "    # con lo anterior entonces ahora el entrenamiento y la validación se completan uno encima de otro, aquí lo vamos a imprimir a medida que sucede el entrenamiento\n",
        "    print(\"-\"*30)\n",
        "    print(f\"Train Loss EPOCH {epoch+1}: {train_loss:.4f}\")\n",
        "    print(f\"Valid Loss EPOCH {epoch+1}: {val_loss:.4f}\")\n",
        "    print(f\"Train Accuracy EPOCH {epoch+1}: {sum(1 for x,y in zip(train_preds, train_labels) if x == y) / len(train_labels):.4f}\") # x sería la predicción y la y sería el label, si x e y son iguales entonces encontramos una predicción correcta\n",
        "    print(f\"Valid Accuracy EPOCH {epoch+1}: {sum(1 for x,y in zip(val_preds, val_labels) if x == y) / len(val_labels):.4f}\")\n",
        "    print(\"-\"*30)\n",
        "\n",
        "# finalizar la estimación del tiempo de entrenamiento\n",
        "stop = timeit.default_timer()\n",
        "print(f\"Training Time: {stop-start:.2f}s\") # mostrar la estimación del tiempo de entrenamiento\n",
        "\n",
        "# al finalizar todo, veremos que nuestro entrenamiento está completo, veremos los resultado y la precisión para el entrenamiento es de 0.9199 y la precisión para la validación es de 0.9390 para las 40 épocas y la estimación del tiempo de entrenamiento es de 875.37 segundos que son aproximadamente 14.5895 minutos"
      ],
      "metadata": {
        "colab": {
          "base_uri": "https://localhost:8080/"
        },
        "id": "45nTVQ32qB1w",
        "outputId": "6ad77396-4b05-4cdb-baae-fb791bb29545"
      },
      "execution_count": 13,
      "outputs": [
        {
          "metadata": {
            "tags": null
          },
          "name": "stderr",
          "output_type": "stream",
          "text": [
            "100%|██████████| 74/74 [00:21<00:00,  3.47it/s]\n",
            "100%|██████████| 9/9 [00:00<00:00,  9.39it/s]\n"
          ]
        },
        {
          "metadata": {
            "tags": null
          },
          "name": "stdout",
          "output_type": "stream",
          "text": [
            "------------------------------\n",
            "Train Loss EPOCH 1: 2.2573\n",
            "Valid Loss EPOCH 1: 2.0988\n"
          ]
        },
        {
          "metadata": {
            "tags": null
          },
          "name": "stderr",
          "output_type": "stream",
          "text": [
            "\r  2%|▎         | 1/40 [00:22<14:37, 22.51s/it]"
          ]
        },
        {
          "metadata": {
            "tags": null
          },
          "name": "stdout",
          "output_type": "stream",
          "text": [
            "Train Accuracy EPOCH 1: 0.1613\n",
            "Valid Accuracy EPOCH 1: 0.2433\n",
            "------------------------------\n"
          ]
        },
        {
          "metadata": {
            "tags": null
          },
          "name": "stderr",
          "output_type": "stream",
          "text": [
            "100%|██████████| 74/74 [00:20<00:00,  3.63it/s]\n",
            "100%|██████████| 9/9 [00:01<00:00,  8.61it/s]\n"
          ]
        },
        {
          "metadata": {
            "tags": null
          },
          "name": "stdout",
          "output_type": "stream",
          "text": [
            "------------------------------\n",
            "Train Loss EPOCH 2: 2.0112\n",
            "Valid Loss EPOCH 2: 1.8102\n"
          ]
        },
        {
          "metadata": {
            "tags": null
          },
          "name": "stderr",
          "output_type": "stream",
          "text": [
            "\r  5%|▌         | 2/40 [00:44<14:00, 22.12s/it]"
          ]
        },
        {
          "metadata": {
            "tags": null
          },
          "name": "stdout",
          "output_type": "stream",
          "text": [
            "Train Accuracy EPOCH 2: 0.2700\n",
            "Valid Accuracy EPOCH 2: 0.3729\n",
            "------------------------------\n"
          ]
        },
        {
          "metadata": {
            "tags": null
          },
          "name": "stderr",
          "output_type": "stream",
          "text": [
            "100%|██████████| 74/74 [00:20<00:00,  3.59it/s]\n",
            "100%|██████████| 9/9 [00:00<00:00, 12.20it/s]\n"
          ]
        },
        {
          "metadata": {
            "tags": null
          },
          "name": "stdout",
          "output_type": "stream",
          "text": [
            "------------------------------\n",
            "Train Loss EPOCH 3: 1.6986\n",
            "Valid Loss EPOCH 3: 1.5179\n"
          ]
        },
        {
          "metadata": {
            "tags": null
          },
          "name": "stderr",
          "output_type": "stream",
          "text": [
            "\r  8%|▊         | 3/40 [01:05<13:29, 21.88s/it]"
          ]
        },
        {
          "metadata": {
            "tags": null
          },
          "name": "stdout",
          "output_type": "stream",
          "text": [
            "Train Accuracy EPOCH 3: 0.4236\n",
            "Valid Accuracy EPOCH 3: 0.5038\n",
            "------------------------------\n"
          ]
        },
        {
          "metadata": {
            "tags": null
          },
          "name": "stderr",
          "output_type": "stream",
          "text": [
            "100%|██████████| 74/74 [00:21<00:00,  3.52it/s]\n",
            "100%|██████████| 9/9 [00:00<00:00, 11.60it/s]\n"
          ]
        },
        {
          "metadata": {
            "tags": null
          },
          "name": "stdout",
          "output_type": "stream",
          "text": [
            "------------------------------\n",
            "Train Loss EPOCH 4: 1.5197\n",
            "Valid Loss EPOCH 4: 1.3830\n"
          ]
        },
        {
          "metadata": {
            "tags": null
          },
          "name": "stderr",
          "output_type": "stream",
          "text": [
            "\r 10%|█         | 4/40 [01:28<13:10, 21.97s/it]"
          ]
        },
        {
          "metadata": {
            "tags": null
          },
          "name": "stdout",
          "output_type": "stream",
          "text": [
            "Train Accuracy EPOCH 4: 0.5010\n",
            "Valid Accuracy EPOCH 4: 0.5771\n",
            "------------------------------\n"
          ]
        },
        {
          "metadata": {
            "tags": null
          },
          "name": "stderr",
          "output_type": "stream",
          "text": [
            "100%|██████████| 74/74 [00:20<00:00,  3.57it/s]\n",
            "100%|██████████| 9/9 [00:01<00:00,  8.25it/s]\n"
          ]
        },
        {
          "metadata": {
            "tags": null
          },
          "name": "stdout",
          "output_type": "stream",
          "text": [
            "------------------------------\n",
            "Train Loss EPOCH 5: 1.3998\n",
            "Valid Loss EPOCH 5: 1.2657\n"
          ]
        },
        {
          "metadata": {
            "tags": null
          },
          "name": "stderr",
          "output_type": "stream",
          "text": [
            "\r 12%|█▎        | 5/40 [01:50<12:50, 22.00s/it]"
          ]
        },
        {
          "metadata": {
            "tags": null
          },
          "name": "stdout",
          "output_type": "stream",
          "text": [
            "Train Accuracy EPOCH 5: 0.5541\n",
            "Valid Accuracy EPOCH 5: 0.6264\n",
            "------------------------------\n"
          ]
        },
        {
          "metadata": {
            "tags": null
          },
          "name": "stderr",
          "output_type": "stream",
          "text": [
            "100%|██████████| 74/74 [00:20<00:00,  3.65it/s]\n",
            "100%|██████████| 9/9 [00:00<00:00, 11.74it/s]\n"
          ]
        },
        {
          "metadata": {
            "tags": null
          },
          "name": "stdout",
          "output_type": "stream",
          "text": [
            "------------------------------\n",
            "Train Loss EPOCH 6: 1.2811\n",
            "Valid Loss EPOCH 6: 1.1353\n"
          ]
        },
        {
          "metadata": {
            "tags": null
          },
          "name": "stderr",
          "output_type": "stream",
          "text": [
            "\r 15%|█▌        | 6/40 [02:11<12:19, 21.76s/it]"
          ]
        },
        {
          "metadata": {
            "tags": null
          },
          "name": "stdout",
          "output_type": "stream",
          "text": [
            "Train Accuracy EPOCH 6: 0.6130\n",
            "Valid Accuracy EPOCH 6: 0.6800\n",
            "------------------------------\n"
          ]
        },
        {
          "metadata": {
            "tags": null
          },
          "name": "stderr",
          "output_type": "stream",
          "text": [
            "100%|██████████| 74/74 [00:21<00:00,  3.49it/s]\n",
            "100%|██████████| 9/9 [00:00<00:00, 12.07it/s]\n"
          ]
        },
        {
          "metadata": {
            "tags": null
          },
          "name": "stdout",
          "output_type": "stream",
          "text": [
            "------------------------------\n",
            "Train Loss EPOCH 7: 1.1658\n",
            "Valid Loss EPOCH 7: 1.0387\n"
          ]
        },
        {
          "metadata": {
            "tags": null
          },
          "name": "stderr",
          "output_type": "stream",
          "text": [
            "\r 18%|█▊        | 7/40 [02:33<12:02, 21.91s/it]"
          ]
        },
        {
          "metadata": {
            "tags": null
          },
          "name": "stdout",
          "output_type": "stream",
          "text": [
            "Train Accuracy EPOCH 7: 0.6716\n",
            "Valid Accuracy EPOCH 7: 0.7319\n",
            "------------------------------\n"
          ]
        },
        {
          "metadata": {
            "tags": null
          },
          "name": "stderr",
          "output_type": "stream",
          "text": [
            "100%|██████████| 74/74 [00:21<00:00,  3.52it/s]\n",
            "100%|██████████| 9/9 [00:00<00:00, 12.13it/s]\n"
          ]
        },
        {
          "metadata": {
            "tags": null
          },
          "name": "stdout",
          "output_type": "stream",
          "text": [
            "------------------------------\n",
            "Train Loss EPOCH 8: 1.0595\n",
            "Valid Loss EPOCH 8: 0.9497\n"
          ]
        },
        {
          "metadata": {
            "tags": null
          },
          "name": "stderr",
          "output_type": "stream",
          "text": [
            "\r 20%|██        | 8/40 [02:55<11:42, 21.95s/it]"
          ]
        },
        {
          "metadata": {
            "tags": null
          },
          "name": "stdout",
          "output_type": "stream",
          "text": [
            "Train Accuracy EPOCH 8: 0.7136\n",
            "Valid Accuracy EPOCH 8: 0.7600\n",
            "------------------------------\n"
          ]
        },
        {
          "metadata": {
            "tags": null
          },
          "name": "stderr",
          "output_type": "stream",
          "text": [
            "100%|██████████| 74/74 [00:20<00:00,  3.66it/s]\n",
            "100%|██████████| 9/9 [00:00<00:00, 11.87it/s]\n"
          ]
        },
        {
          "metadata": {
            "tags": null
          },
          "name": "stdout",
          "output_type": "stream",
          "text": [
            "------------------------------\n",
            "Train Loss EPOCH 9: 0.9742\n",
            "Valid Loss EPOCH 9: 0.8459\n"
          ]
        },
        {
          "metadata": {
            "tags": null
          },
          "name": "stderr",
          "output_type": "stream",
          "text": [
            "\r 22%|██▎       | 9/40 [03:16<11:13, 21.73s/it]"
          ]
        },
        {
          "metadata": {
            "tags": null
          },
          "name": "stdout",
          "output_type": "stream",
          "text": [
            "Train Accuracy EPOCH 9: 0.7418\n",
            "Valid Accuracy EPOCH 9: 0.7940\n",
            "------------------------------\n"
          ]
        },
        {
          "metadata": {
            "tags": null
          },
          "name": "stderr",
          "output_type": "stream",
          "text": [
            "100%|██████████| 74/74 [00:21<00:00,  3.52it/s]\n",
            "100%|██████████| 9/9 [00:00<00:00, 11.74it/s]\n"
          ]
        },
        {
          "metadata": {
            "tags": null
          },
          "name": "stdout",
          "output_type": "stream",
          "text": [
            "------------------------------\n",
            "Train Loss EPOCH 10: 0.8967\n",
            "Valid Loss EPOCH 10: 0.8006\n"
          ]
        },
        {
          "metadata": {
            "tags": null
          },
          "name": "stderr",
          "output_type": "stream",
          "text": [
            "\r 25%|██▌       | 10/40 [03:38<10:55, 21.84s/it]"
          ]
        },
        {
          "metadata": {
            "tags": null
          },
          "name": "stdout",
          "output_type": "stream",
          "text": [
            "Train Accuracy EPOCH 10: 0.7628\n",
            "Valid Accuracy EPOCH 10: 0.8017\n",
            "------------------------------\n"
          ]
        },
        {
          "metadata": {
            "tags": null
          },
          "name": "stderr",
          "output_type": "stream",
          "text": [
            "100%|██████████| 74/74 [00:21<00:00,  3.51it/s]\n",
            "100%|██████████| 9/9 [00:00<00:00, 11.44it/s]\n"
          ]
        },
        {
          "metadata": {
            "tags": null
          },
          "name": "stdout",
          "output_type": "stream",
          "text": [
            "------------------------------\n",
            "Train Loss EPOCH 11: 0.8424\n",
            "Valid Loss EPOCH 11: 0.7398\n"
          ]
        },
        {
          "metadata": {
            "tags": null
          },
          "name": "stderr",
          "output_type": "stream",
          "text": [
            "\r 28%|██▊       | 11/40 [04:01<10:36, 21.94s/it]"
          ]
        },
        {
          "metadata": {
            "tags": null
          },
          "name": "stdout",
          "output_type": "stream",
          "text": [
            "Train Accuracy EPOCH 11: 0.7780\n",
            "Valid Accuracy EPOCH 11: 0.8200\n",
            "------------------------------\n"
          ]
        },
        {
          "metadata": {
            "tags": null
          },
          "name": "stderr",
          "output_type": "stream",
          "text": [
            "100%|██████████| 74/74 [00:20<00:00,  3.65it/s]\n",
            "100%|██████████| 9/9 [00:00<00:00, 10.09it/s]\n"
          ]
        },
        {
          "metadata": {
            "tags": null
          },
          "name": "stdout",
          "output_type": "stream",
          "text": [
            "------------------------------\n",
            "Train Loss EPOCH 12: 0.7984\n",
            "Valid Loss EPOCH 12: 0.7055\n"
          ]
        },
        {
          "metadata": {
            "tags": null
          },
          "name": "stderr",
          "output_type": "stream",
          "text": [
            "\r 30%|███       | 12/40 [04:22<10:10, 21.82s/it]"
          ]
        },
        {
          "metadata": {
            "tags": null
          },
          "name": "stdout",
          "output_type": "stream",
          "text": [
            "Train Accuracy EPOCH 12: 0.7895\n",
            "Valid Accuracy EPOCH 12: 0.8274\n",
            "------------------------------\n"
          ]
        },
        {
          "metadata": {
            "tags": null
          },
          "name": "stderr",
          "output_type": "stream",
          "text": [
            "100%|██████████| 74/74 [00:21<00:00,  3.51it/s]\n",
            "100%|██████████| 9/9 [00:00<00:00, 12.03it/s]\n"
          ]
        },
        {
          "metadata": {
            "tags": null
          },
          "name": "stdout",
          "output_type": "stream",
          "text": [
            "------------------------------\n",
            "Train Loss EPOCH 13: 0.7550\n",
            "Valid Loss EPOCH 13: 0.6917\n"
          ]
        },
        {
          "metadata": {
            "tags": null
          },
          "name": "stderr",
          "output_type": "stream",
          "text": [
            "\r 32%|███▎      | 13/40 [04:44<09:51, 21.90s/it]"
          ]
        },
        {
          "metadata": {
            "tags": null
          },
          "name": "stdout",
          "output_type": "stream",
          "text": [
            "Train Accuracy EPOCH 13: 0.8005\n",
            "Valid Accuracy EPOCH 13: 0.8298\n",
            "------------------------------\n"
          ]
        },
        {
          "metadata": {
            "tags": null
          },
          "name": "stderr",
          "output_type": "stream",
          "text": [
            "100%|██████████| 74/74 [00:20<00:00,  3.53it/s]\n",
            "100%|██████████| 9/9 [00:00<00:00, 11.71it/s]\n"
          ]
        },
        {
          "metadata": {
            "tags": null
          },
          "name": "stdout",
          "output_type": "stream",
          "text": [
            "------------------------------\n",
            "Train Loss EPOCH 14: 0.7213\n",
            "Valid Loss EPOCH 14: 0.6298\n"
          ]
        },
        {
          "metadata": {
            "tags": null
          },
          "name": "stderr",
          "output_type": "stream",
          "text": [
            "\r 35%|███▌      | 14/40 [05:06<09:30, 21.93s/it]"
          ]
        },
        {
          "metadata": {
            "tags": null
          },
          "name": "stdout",
          "output_type": "stream",
          "text": [
            "Train Accuracy EPOCH 14: 0.8096\n",
            "Valid Accuracy EPOCH 14: 0.8410\n",
            "------------------------------\n"
          ]
        },
        {
          "metadata": {
            "tags": null
          },
          "name": "stderr",
          "output_type": "stream",
          "text": [
            "100%|██████████| 74/74 [00:20<00:00,  3.59it/s]\n",
            "100%|██████████| 9/9 [00:00<00:00,  9.07it/s]\n"
          ]
        },
        {
          "metadata": {
            "tags": null
          },
          "name": "stdout",
          "output_type": "stream",
          "text": [
            "------------------------------\n",
            "Train Loss EPOCH 15: 0.6693\n",
            "Valid Loss EPOCH 15: 0.5771\n"
          ]
        },
        {
          "metadata": {
            "tags": null
          },
          "name": "stderr",
          "output_type": "stream",
          "text": [
            "\r 38%|███▊      | 15/40 [05:28<09:08, 21.96s/it]"
          ]
        },
        {
          "metadata": {
            "tags": null
          },
          "name": "stdout",
          "output_type": "stream",
          "text": [
            "Train Accuracy EPOCH 15: 0.8272\n",
            "Valid Accuracy EPOCH 15: 0.8650\n",
            "------------------------------\n"
          ]
        },
        {
          "metadata": {
            "tags": null
          },
          "name": "stderr",
          "output_type": "stream",
          "text": [
            "100%|██████████| 74/74 [00:20<00:00,  3.53it/s]\n",
            "100%|██████████| 9/9 [00:00<00:00, 11.36it/s]\n"
          ]
        },
        {
          "metadata": {
            "tags": null
          },
          "name": "stdout",
          "output_type": "stream",
          "text": [
            "------------------------------\n",
            "Train Loss EPOCH 16: 0.6450\n",
            "Valid Loss EPOCH 16: 0.5558\n"
          ]
        },
        {
          "metadata": {
            "tags": null
          },
          "name": "stderr",
          "output_type": "stream",
          "text": [
            "\r 40%|████      | 16/40 [05:50<08:47, 21.97s/it]"
          ]
        },
        {
          "metadata": {
            "tags": null
          },
          "name": "stdout",
          "output_type": "stream",
          "text": [
            "Train Accuracy EPOCH 16: 0.8329\n",
            "Valid Accuracy EPOCH 16: 0.8743\n",
            "------------------------------\n"
          ]
        },
        {
          "metadata": {
            "tags": null
          },
          "name": "stderr",
          "output_type": "stream",
          "text": [
            "100%|██████████| 74/74 [00:21<00:00,  3.47it/s]\n",
            "100%|██████████| 9/9 [00:00<00:00, 11.23it/s]\n"
          ]
        },
        {
          "metadata": {
            "tags": null
          },
          "name": "stdout",
          "output_type": "stream",
          "text": [
            "------------------------------\n",
            "Train Loss EPOCH 17: 0.6115\n",
            "Valid Loss EPOCH 17: 0.5563\n"
          ]
        },
        {
          "metadata": {
            "tags": null
          },
          "name": "stderr",
          "output_type": "stream",
          "text": [
            "\r 42%|████▎     | 17/40 [06:13<08:28, 22.10s/it]"
          ]
        },
        {
          "metadata": {
            "tags": null
          },
          "name": "stdout",
          "output_type": "stream",
          "text": [
            "Train Accuracy EPOCH 17: 0.8410\n",
            "Valid Accuracy EPOCH 17: 0.8631\n",
            "------------------------------\n"
          ]
        },
        {
          "metadata": {
            "tags": null
          },
          "name": "stderr",
          "output_type": "stream",
          "text": [
            "100%|██████████| 74/74 [00:21<00:00,  3.48it/s]\n",
            "100%|██████████| 9/9 [00:00<00:00, 11.64it/s]\n"
          ]
        },
        {
          "metadata": {
            "tags": null
          },
          "name": "stdout",
          "output_type": "stream",
          "text": [
            "------------------------------\n",
            "Train Loss EPOCH 18: 0.5786\n",
            "Valid Loss EPOCH 18: 0.5151\n"
          ]
        },
        {
          "metadata": {
            "tags": null
          },
          "name": "stderr",
          "output_type": "stream",
          "text": [
            "\r 45%|████▌     | 18/40 [06:35<08:07, 22.16s/it]"
          ]
        },
        {
          "metadata": {
            "tags": null
          },
          "name": "stdout",
          "output_type": "stream",
          "text": [
            "Train Accuracy EPOCH 18: 0.8502\n",
            "Valid Accuracy EPOCH 18: 0.8745\n",
            "------------------------------\n"
          ]
        },
        {
          "metadata": {
            "tags": null
          },
          "name": "stderr",
          "output_type": "stream",
          "text": [
            "100%|██████████| 74/74 [00:20<00:00,  3.63it/s]\n",
            "100%|██████████| 9/9 [00:00<00:00,  9.18it/s]\n"
          ]
        },
        {
          "metadata": {
            "tags": null
          },
          "name": "stdout",
          "output_type": "stream",
          "text": [
            "------------------------------\n",
            "Train Loss EPOCH 19: 0.5562\n",
            "Valid Loss EPOCH 19: 0.4837\n"
          ]
        },
        {
          "metadata": {
            "tags": null
          },
          "name": "stderr",
          "output_type": "stream",
          "text": [
            "\r 48%|████▊     | 19/40 [06:57<07:42, 22.00s/it]"
          ]
        },
        {
          "metadata": {
            "tags": null
          },
          "name": "stdout",
          "output_type": "stream",
          "text": [
            "Train Accuracy EPOCH 19: 0.8557\n",
            "Valid Accuracy EPOCH 19: 0.8914\n",
            "------------------------------\n"
          ]
        },
        {
          "metadata": {
            "tags": null
          },
          "name": "stderr",
          "output_type": "stream",
          "text": [
            "100%|██████████| 74/74 [00:21<00:00,  3.52it/s]\n",
            "100%|██████████| 9/9 [00:00<00:00, 11.44it/s]\n"
          ]
        },
        {
          "metadata": {
            "tags": null
          },
          "name": "stdout",
          "output_type": "stream",
          "text": [
            "------------------------------\n",
            "Train Loss EPOCH 20: 0.5278\n",
            "Valid Loss EPOCH 20: 0.4370\n"
          ]
        },
        {
          "metadata": {
            "tags": null
          },
          "name": "stderr",
          "output_type": "stream",
          "text": [
            "\r 50%|█████     | 20/40 [07:19<07:20, 22.03s/it]"
          ]
        },
        {
          "metadata": {
            "tags": null
          },
          "name": "stdout",
          "output_type": "stream",
          "text": [
            "Train Accuracy EPOCH 20: 0.8628\n",
            "Valid Accuracy EPOCH 20: 0.9012\n",
            "------------------------------\n"
          ]
        },
        {
          "metadata": {
            "tags": null
          },
          "name": "stderr",
          "output_type": "stream",
          "text": [
            "100%|██████████| 74/74 [00:21<00:00,  3.50it/s]\n",
            "100%|██████████| 9/9 [00:00<00:00, 12.43it/s]\n"
          ]
        },
        {
          "metadata": {
            "tags": null
          },
          "name": "stdout",
          "output_type": "stream",
          "text": [
            "------------------------------\n",
            "Train Loss EPOCH 21: 0.5041\n",
            "Valid Loss EPOCH 21: 0.4229\n"
          ]
        },
        {
          "metadata": {
            "tags": null
          },
          "name": "stderr",
          "output_type": "stream",
          "text": [
            "\r 52%|█████▎    | 21/40 [07:41<06:59, 22.06s/it]"
          ]
        },
        {
          "metadata": {
            "tags": null
          },
          "name": "stdout",
          "output_type": "stream",
          "text": [
            "Train Accuracy EPOCH 21: 0.8696\n",
            "Valid Accuracy EPOCH 21: 0.9014\n",
            "------------------------------\n"
          ]
        },
        {
          "metadata": {
            "tags": null
          },
          "name": "stderr",
          "output_type": "stream",
          "text": [
            "100%|██████████| 74/74 [00:20<00:00,  3.66it/s]\n",
            "100%|██████████| 9/9 [00:00<00:00, 10.23it/s]\n"
          ]
        },
        {
          "metadata": {
            "tags": null
          },
          "name": "stdout",
          "output_type": "stream",
          "text": [
            "------------------------------\n",
            "Train Loss EPOCH 22: 0.4914\n",
            "Valid Loss EPOCH 22: 0.4246\n"
          ]
        },
        {
          "metadata": {
            "tags": null
          },
          "name": "stderr",
          "output_type": "stream",
          "text": [
            "\r 55%|█████▌    | 22/40 [08:02<06:34, 21.90s/it]"
          ]
        },
        {
          "metadata": {
            "tags": null
          },
          "name": "stdout",
          "output_type": "stream",
          "text": [
            "Train Accuracy EPOCH 22: 0.8727\n",
            "Valid Accuracy EPOCH 22: 0.8955\n",
            "------------------------------\n"
          ]
        },
        {
          "metadata": {
            "tags": null
          },
          "name": "stderr",
          "output_type": "stream",
          "text": [
            "100%|██████████| 74/74 [00:20<00:00,  3.64it/s]\n",
            "100%|██████████| 9/9 [00:00<00:00, 11.96it/s]\n"
          ]
        },
        {
          "metadata": {
            "tags": null
          },
          "name": "stdout",
          "output_type": "stream",
          "text": [
            "------------------------------\n",
            "Train Loss EPOCH 23: 0.4605\n",
            "Valid Loss EPOCH 23: 0.3953\n"
          ]
        },
        {
          "metadata": {
            "tags": null
          },
          "name": "stderr",
          "output_type": "stream",
          "text": [
            "\r 57%|█████▊    | 23/40 [08:24<06:09, 21.74s/it]"
          ]
        },
        {
          "metadata": {
            "tags": null
          },
          "name": "stdout",
          "output_type": "stream",
          "text": [
            "Train Accuracy EPOCH 23: 0.8813\n",
            "Valid Accuracy EPOCH 23: 0.9090\n",
            "------------------------------\n"
          ]
        },
        {
          "metadata": {
            "tags": null
          },
          "name": "stderr",
          "output_type": "stream",
          "text": [
            "100%|██████████| 74/74 [00:20<00:00,  3.59it/s]\n",
            "100%|██████████| 9/9 [00:00<00:00, 12.03it/s]\n"
          ]
        },
        {
          "metadata": {
            "tags": null
          },
          "name": "stdout",
          "output_type": "stream",
          "text": [
            "------------------------------\n",
            "Train Loss EPOCH 24: 0.4448\n",
            "Valid Loss EPOCH 24: 0.3945\n"
          ]
        },
        {
          "metadata": {
            "tags": null
          },
          "name": "stderr",
          "output_type": "stream",
          "text": [
            "\r 60%|██████    | 24/40 [08:45<05:47, 21.70s/it]"
          ]
        },
        {
          "metadata": {
            "tags": null
          },
          "name": "stdout",
          "output_type": "stream",
          "text": [
            "Train Accuracy EPOCH 24: 0.8832\n",
            "Valid Accuracy EPOCH 24: 0.9052\n",
            "------------------------------\n"
          ]
        },
        {
          "output_type": "stream",
          "name": "stderr",
          "text": [
            "100%|██████████| 74/74 [00:20<00:00,  3.63it/s]\n",
            "100%|██████████| 9/9 [00:01<00:00,  8.93it/s]\n"
          ]
        },
        {
          "output_type": "stream",
          "name": "stdout",
          "text": [
            "------------------------------\n",
            "Train Loss EPOCH 25: 0.4260\n",
            "Valid Loss EPOCH 25: 0.3875\n"
          ]
        },
        {
          "output_type": "stream",
          "name": "stderr",
          "text": [
            "\r 62%|██████▎   | 25/40 [09:07<05:25, 21.73s/it]"
          ]
        },
        {
          "output_type": "stream",
          "name": "stdout",
          "text": [
            "Train Accuracy EPOCH 25: 0.8884\n",
            "Valid Accuracy EPOCH 25: 0.9019\n",
            "------------------------------\n"
          ]
        },
        {
          "output_type": "stream",
          "name": "stderr",
          "text": [
            "100%|██████████| 74/74 [00:20<00:00,  3.69it/s]\n",
            "100%|██████████| 9/9 [00:00<00:00, 11.92it/s]\n"
          ]
        },
        {
          "output_type": "stream",
          "name": "stdout",
          "text": [
            "------------------------------\n",
            "Train Loss EPOCH 26: 0.4126\n",
            "Valid Loss EPOCH 26: 0.3690\n"
          ]
        },
        {
          "output_type": "stream",
          "name": "stderr",
          "text": [
            "\r 65%|██████▌   | 26/40 [09:28<05:01, 21.54s/it]"
          ]
        },
        {
          "output_type": "stream",
          "name": "stdout",
          "text": [
            "Train Accuracy EPOCH 26: 0.8906\n",
            "Valid Accuracy EPOCH 26: 0.9064\n",
            "------------------------------\n"
          ]
        },
        {
          "output_type": "stream",
          "name": "stderr",
          "text": [
            "100%|██████████| 74/74 [00:20<00:00,  3.58it/s]\n",
            "100%|██████████| 9/9 [00:00<00:00, 11.85it/s]\n"
          ]
        },
        {
          "output_type": "stream",
          "name": "stdout",
          "text": [
            "------------------------------\n",
            "Train Loss EPOCH 27: 0.3986\n",
            "Valid Loss EPOCH 27: 0.3185\n"
          ]
        },
        {
          "output_type": "stream",
          "name": "stderr",
          "text": [
            "\r 68%|██████▊   | 27/40 [09:50<04:40, 21.59s/it]"
          ]
        },
        {
          "output_type": "stream",
          "name": "stdout",
          "text": [
            "Train Accuracy EPOCH 27: 0.8935\n",
            "Valid Accuracy EPOCH 27: 0.9202\n",
            "------------------------------\n"
          ]
        },
        {
          "output_type": "stream",
          "name": "stderr",
          "text": [
            "100%|██████████| 74/74 [00:20<00:00,  3.58it/s]\n",
            "100%|██████████| 9/9 [00:00<00:00, 10.48it/s]\n"
          ]
        },
        {
          "output_type": "stream",
          "name": "stdout",
          "text": [
            "------------------------------\n",
            "Train Loss EPOCH 28: 0.3835\n",
            "Valid Loss EPOCH 28: 0.3205\n"
          ]
        },
        {
          "output_type": "stream",
          "name": "stderr",
          "text": [
            "\r 70%|███████   | 28/40 [10:12<04:19, 21.66s/it]"
          ]
        },
        {
          "output_type": "stream",
          "name": "stdout",
          "text": [
            "Train Accuracy EPOCH 28: 0.8962\n",
            "Valid Accuracy EPOCH 28: 0.9226\n",
            "------------------------------\n"
          ]
        },
        {
          "output_type": "stream",
          "name": "stderr",
          "text": [
            "100%|██████████| 74/74 [00:20<00:00,  3.68it/s]\n",
            "100%|██████████| 9/9 [00:00<00:00, 11.74it/s]\n"
          ]
        },
        {
          "output_type": "stream",
          "name": "stdout",
          "text": [
            "------------------------------\n",
            "Train Loss EPOCH 29: 0.3693\n",
            "Valid Loss EPOCH 29: 0.3488\n"
          ]
        },
        {
          "output_type": "stream",
          "name": "stderr",
          "text": [
            "\r 72%|███████▎  | 29/40 [10:33<03:56, 21.51s/it]"
          ]
        },
        {
          "output_type": "stream",
          "name": "stdout",
          "text": [
            "Train Accuracy EPOCH 29: 0.9014\n",
            "Valid Accuracy EPOCH 29: 0.9076\n",
            "------------------------------\n"
          ]
        },
        {
          "output_type": "stream",
          "name": "stderr",
          "text": [
            "100%|██████████| 74/74 [00:20<00:00,  3.57it/s]\n",
            "100%|██████████| 9/9 [00:00<00:00, 11.88it/s]\n"
          ]
        },
        {
          "output_type": "stream",
          "name": "stdout",
          "text": [
            "------------------------------\n",
            "Train Loss EPOCH 30: 0.3617\n",
            "Valid Loss EPOCH 30: 0.3024\n"
          ]
        },
        {
          "output_type": "stream",
          "name": "stderr",
          "text": [
            "\r 75%|███████▌  | 30/40 [10:55<03:35, 21.58s/it]"
          ]
        },
        {
          "output_type": "stream",
          "name": "stdout",
          "text": [
            "Train Accuracy EPOCH 30: 0.9026\n",
            "Valid Accuracy EPOCH 30: 0.9210\n",
            "------------------------------\n"
          ]
        },
        {
          "output_type": "stream",
          "name": "stderr",
          "text": [
            "100%|██████████| 74/74 [00:20<00:00,  3.53it/s]\n",
            "100%|██████████| 9/9 [00:00<00:00, 12.15it/s]\n"
          ]
        },
        {
          "output_type": "stream",
          "name": "stdout",
          "text": [
            "------------------------------\n",
            "Train Loss EPOCH 31: 0.3558\n",
            "Valid Loss EPOCH 31: 0.2952\n"
          ]
        },
        {
          "output_type": "stream",
          "name": "stderr",
          "text": [
            "\r 78%|███████▊  | 31/40 [11:17<03:15, 21.69s/it]"
          ]
        },
        {
          "output_type": "stream",
          "name": "stdout",
          "text": [
            "Train Accuracy EPOCH 31: 0.9023\n",
            "Valid Accuracy EPOCH 31: 0.9205\n",
            "------------------------------\n"
          ]
        },
        {
          "output_type": "stream",
          "name": "stderr",
          "text": [
            "100%|██████████| 74/74 [00:20<00:00,  3.63it/s]\n",
            "100%|██████████| 9/9 [00:00<00:00,  9.15it/s]\n"
          ]
        },
        {
          "output_type": "stream",
          "name": "stdout",
          "text": [
            "------------------------------\n",
            "Train Loss EPOCH 32: 0.3418\n",
            "Valid Loss EPOCH 32: 0.2766\n"
          ]
        },
        {
          "output_type": "stream",
          "name": "stderr",
          "text": [
            "\r 80%|████████  | 32/40 [11:38<02:53, 21.71s/it]"
          ]
        },
        {
          "output_type": "stream",
          "name": "stdout",
          "text": [
            "Train Accuracy EPOCH 32: 0.9069\n",
            "Valid Accuracy EPOCH 32: 0.9264\n",
            "------------------------------\n"
          ]
        },
        {
          "output_type": "stream",
          "name": "stderr",
          "text": [
            "100%|██████████| 74/74 [00:21<00:00,  3.47it/s]\n",
            "100%|██████████| 9/9 [00:00<00:00, 11.80it/s]\n"
          ]
        },
        {
          "output_type": "stream",
          "name": "stdout",
          "text": [
            "------------------------------\n",
            "Train Loss EPOCH 33: 0.3376\n",
            "Valid Loss EPOCH 33: 0.2739\n"
          ]
        },
        {
          "output_type": "stream",
          "name": "stderr",
          "text": [
            "\r 82%|████████▎ | 33/40 [12:01<02:33, 21.89s/it]"
          ]
        },
        {
          "output_type": "stream",
          "name": "stdout",
          "text": [
            "Train Accuracy EPOCH 33: 0.9074\n",
            "Valid Accuracy EPOCH 33: 0.9317\n",
            "------------------------------\n"
          ]
        },
        {
          "output_type": "stream",
          "name": "stderr",
          "text": [
            "100%|██████████| 74/74 [00:21<00:00,  3.52it/s]\n",
            "100%|██████████| 9/9 [00:00<00:00, 11.58it/s]\n"
          ]
        },
        {
          "output_type": "stream",
          "name": "stdout",
          "text": [
            "------------------------------\n",
            "Train Loss EPOCH 34: 0.3202\n",
            "Valid Loss EPOCH 34: 0.2799\n"
          ]
        },
        {
          "output_type": "stream",
          "name": "stderr",
          "text": [
            "\r 85%|████████▌ | 34/40 [12:23<02:11, 21.94s/it]"
          ]
        },
        {
          "output_type": "stream",
          "name": "stdout",
          "text": [
            "Train Accuracy EPOCH 34: 0.9113\n",
            "Valid Accuracy EPOCH 34: 0.9319\n",
            "------------------------------\n"
          ]
        },
        {
          "output_type": "stream",
          "name": "stderr",
          "text": [
            "100%|██████████| 74/74 [00:21<00:00,  3.50it/s]\n",
            "100%|██████████| 9/9 [00:00<00:00, 12.07it/s]\n"
          ]
        },
        {
          "output_type": "stream",
          "name": "stdout",
          "text": [
            "------------------------------\n",
            "Train Loss EPOCH 35: 0.3186\n",
            "Valid Loss EPOCH 35: 0.2630\n"
          ]
        },
        {
          "output_type": "stream",
          "name": "stderr",
          "text": [
            "\r 88%|████████▊ | 35/40 [12:45<01:50, 22.01s/it]"
          ]
        },
        {
          "output_type": "stream",
          "name": "stdout",
          "text": [
            "Train Accuracy EPOCH 35: 0.9116\n",
            "Valid Accuracy EPOCH 35: 0.9307\n",
            "------------------------------\n"
          ]
        },
        {
          "output_type": "stream",
          "name": "stderr",
          "text": [
            "100%|██████████| 74/74 [00:20<00:00,  3.61it/s]\n",
            "100%|██████████| 9/9 [00:00<00:00, 12.13it/s]\n"
          ]
        },
        {
          "output_type": "stream",
          "name": "stdout",
          "text": [
            "------------------------------\n",
            "Train Loss EPOCH 36: 0.3094\n",
            "Valid Loss EPOCH 36: 0.2670\n"
          ]
        },
        {
          "output_type": "stream",
          "name": "stderr",
          "text": [
            "\r 90%|█████████ | 36/40 [13:06<01:27, 21.86s/it]"
          ]
        },
        {
          "output_type": "stream",
          "name": "stdout",
          "text": [
            "Train Accuracy EPOCH 36: 0.9131\n",
            "Valid Accuracy EPOCH 36: 0.9281\n",
            "------------------------------\n"
          ]
        },
        {
          "output_type": "stream",
          "name": "stderr",
          "text": [
            "100%|██████████| 74/74 [00:21<00:00,  3.48it/s]\n",
            "100%|██████████| 9/9 [00:00<00:00,  9.23it/s]\n"
          ]
        },
        {
          "output_type": "stream",
          "name": "stdout",
          "text": [
            "------------------------------\n",
            "Train Loss EPOCH 37: 0.2906\n",
            "Valid Loss EPOCH 37: 0.2629\n"
          ]
        },
        {
          "output_type": "stream",
          "name": "stderr",
          "text": [
            "\r 92%|█████████▎| 37/40 [13:29<01:06, 22.05s/it]"
          ]
        },
        {
          "output_type": "stream",
          "name": "stdout",
          "text": [
            "Train Accuracy EPOCH 37: 0.9183\n",
            "Valid Accuracy EPOCH 37: 0.9302\n",
            "------------------------------\n"
          ]
        },
        {
          "output_type": "stream",
          "name": "stderr",
          "text": [
            "100%|██████████| 74/74 [00:21<00:00,  3.51it/s]\n",
            "100%|██████████| 9/9 [00:00<00:00, 11.34it/s]\n"
          ]
        },
        {
          "output_type": "stream",
          "name": "stdout",
          "text": [
            "------------------------------\n",
            "Train Loss EPOCH 38: 0.2862\n",
            "Valid Loss EPOCH 38: 0.2338\n"
          ]
        },
        {
          "output_type": "stream",
          "name": "stderr",
          "text": [
            "\r 95%|█████████▌| 38/40 [13:51<00:44, 22.07s/it]"
          ]
        },
        {
          "output_type": "stream",
          "name": "stdout",
          "text": [
            "Train Accuracy EPOCH 38: 0.9193\n",
            "Valid Accuracy EPOCH 38: 0.9402\n",
            "------------------------------\n"
          ]
        },
        {
          "output_type": "stream",
          "name": "stderr",
          "text": [
            "100%|██████████| 74/74 [00:20<00:00,  3.54it/s]\n",
            "100%|██████████| 9/9 [00:01<00:00,  7.56it/s]\n"
          ]
        },
        {
          "output_type": "stream",
          "name": "stdout",
          "text": [
            "------------------------------\n",
            "Train Loss EPOCH 39: 0.2857\n",
            "Valid Loss EPOCH 39: 0.2381\n"
          ]
        },
        {
          "output_type": "stream",
          "name": "stderr",
          "text": [
            "\r 98%|█████████▊| 39/40 [14:13<00:22, 22.17s/it]"
          ]
        },
        {
          "output_type": "stream",
          "name": "stdout",
          "text": [
            "Train Accuracy EPOCH 39: 0.9194\n",
            "Valid Accuracy EPOCH 39: 0.9374\n",
            "------------------------------\n"
          ]
        },
        {
          "output_type": "stream",
          "name": "stderr",
          "text": [
            "100%|██████████| 74/74 [00:20<00:00,  3.64it/s]\n",
            "100%|██████████| 9/9 [00:00<00:00, 10.95it/s]\n"
          ]
        },
        {
          "output_type": "stream",
          "name": "stdout",
          "text": [
            "------------------------------\n",
            "Train Loss EPOCH 40: 0.2824\n",
            "Valid Loss EPOCH 40: 0.2436\n"
          ]
        },
        {
          "output_type": "stream",
          "name": "stderr",
          "text": [
            "100%|██████████| 40/40 [14:35<00:00, 21.88s/it]"
          ]
        },
        {
          "output_type": "stream",
          "name": "stdout",
          "text": [
            "Train Accuracy EPOCH 40: 0.9199\n",
            "Valid Accuracy EPOCH 40: 0.9390\n",
            "------------------------------\n",
            "Training Time: 875.37s\n"
          ]
        },
        {
          "output_type": "stream",
          "name": "stderr",
          "text": [
            "\n"
          ]
        }
      ]
    },
    {
      "cell_type": "code",
      "source": [
        "# ahora lo que haremos es abrir un cache vacío lo que nos ayuda a cargar algunas cosas desde la memoria como el modelo, las imágenes, etc por si se tiene la memoria GPU casi llena y por eso antes de continuar con el siguiente bloque de código entonces tenemos que descargar o vaciar la memoria usando \"torch.cuda.empty_cache()\"\n",
        "torch.cuda.empty_cache()"
      ],
      "metadata": {
        "id": "oe0PTGDCXVMW"
      },
      "execution_count": 14,
      "outputs": []
    },
    {
      "cell_type": "code",
      "source": [
        "# ahora vamos a continuar con las predicciones y como tenemos un data loader de prueba, entonces comenzamos creando una lista para las labels, una lista para los id y una lista para las imágenes\n",
        "labels = [] # lista de etiquetas\n",
        "ids = [] # lista de los id\n",
        "imgs = [] # lista de las imágenes\n",
        "\n",
        "# ponemos el modelo en evaluación\n",
        "model.eval()\n",
        "\n",
        " # con \"torch.no_grad()\" se asegura de que no se produzca ningún aprendizaje aquí por lo que solo estamos tratando de obtener el puntaje de validación con el modelo de entrenamiento y por eso no queremos que ocurra ningún aprendizaje\n",
        "with torch.no_grad():\n",
        "    for idx, sample in enumerate(tqdm(test_dataloader, position=0, leave=True)):\n",
        "        img = sample[\"image\"].to(device)\n",
        "        ids.extend([int(i)+1 for i in sample[\"index\"]]) # almacenamos como entero extendido del índice como número y le sumamos 1 porque los archivos comienzan en 0 pero a sus índices se le agrega un 1\n",
        "\n",
        "        # obtener los resultados que es igual al modelo de la imagen\n",
        "        outputs = model(img)\n",
        "\n",
        "        # aquí se extiende la imagen del modelo nuevamente, en esta extensión almacenamos las imágenes porque en realidad veremos las predicciones y las imágenes originales, primero las separamos y luego colocamos la CPU porque como se mencionó arriba no queremos tomar la memoria de la GPU\n",
        "        imgs.extend(img.detach().cpu())\n",
        "        # almacenamos también las labels y nuevamente queremos guardar las etiquetas como números enteros y con  torch.argmax(...) estamos seleccionando la probabilidad más alta\n",
        "        labels.extend([int(i) for i in torch.argmax(outputs, dim=1)])"
      ],
      "metadata": {
        "colab": {
          "base_uri": "https://localhost:8080/"
        },
        "id": "5ZyVRsgHYDX4",
        "outputId": "b74fb79e-a9ed-48f2-9d34-884273b1c75d"
      },
      "execution_count": 15,
      "outputs": [
        {
          "output_type": "stream",
          "name": "stderr",
          "text": [
            "100%|██████████| 55/55 [00:05<00:00, 10.31it/s]\n"
          ]
        }
      ]
    },
    {
      "cell_type": "code",
      "source": [
        "# ahora vamos a graficar algunos datos de prueba y veremos nuestras predicciones\n",
        "plt.figure()\n",
        "f, axarr = plt.subplots(2, 3) # tendremos un total de 6 imágenes por eso y por eso tendremos 2 filas y 3 columnas\n",
        "counter = 0 # necesitaremos un counter o contador\n",
        "# vamos a iterar sobre las 2 filas\n",
        "for i in range(2):\n",
        "    # vamos a iterar sobre las 3 columnas\n",
        "    for j in range(3):\n",
        "        # pondremos la imagen en cada fila y columna y lo mostraremos a partir de imágenes\n",
        "        axarr[i][j].imshow(imgs[counter].squeeze(), cmap=\"gray\")\n",
        "        # estableceremos un título y diremos el valor predicho que está en \"labels[counter]\"\n",
        "        axarr[i][j].set_title(f\"Predicted {labels[counter]}\")\n",
        "        counter += 1 # actualizar el contador +1\n",
        "\n",
        "plt.show()"
      ],
      "metadata": {
        "colab": {
          "base_uri": "https://localhost:8080/",
          "height": 447
        },
        "id": "xZm47II9ZLhT",
        "outputId": "d4740a04-5b61-439a-b011-54e9fe3c5067"
      },
      "execution_count": 16,
      "outputs": [
        {
          "output_type": "display_data",
          "data": {
            "text/plain": [
              "<Figure size 640x480 with 0 Axes>"
            ]
          },
          "metadata": {}
        },
        {
          "output_type": "display_data",
          "data": {
            "text/plain": [
              "<Figure size 640x480 with 6 Axes>"
            ],
            "image/png": "[encoded data removed]"
          },
          "metadata": {}
        }
      ]
    },
    {
      "cell_type": "code",
      "source": [
        "# si queremos continuar con la parte de submission y se guardará en el archivo de submission\n",
        "submission_df = pd.DataFrame(list(zip(ids, labels)),\n",
        "               columns =[\"ImageId\", \"Label\"])\n",
        "submission_df.to_csv(\"submission.csv\", index=False)\n",
        "submission_df.head()"
      ],
      "metadata": {
        "id": "0t6Hc4NwZMcK"
      },
      "execution_count": null,
      "outputs": []
    }
  ]
}